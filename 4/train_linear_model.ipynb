{
 "cells": [
  {
   "cell_type": "markdown",
   "metadata": {},
   "source": [
    "# 训练模型"
   ]
  },
  {
   "cell_type": "code",
   "execution_count": 1,
   "metadata": {},
   "outputs": [],
   "source": [
    "# Python ≥3.5 is required\n",
    "import sys\n",
    "assert sys.version_info >= (3, 5)\n",
    "\n",
    "# Scikit-Learn ≥0.20 is required\n",
    "import sklearn\n",
    "assert sklearn.__version__ >= \"0.20\"\n",
    "\n",
    "# Common imports\n",
    "import numpy as np\n",
    "import os\n",
    "\n",
    "# to make this notebook's output stable across runs\n",
    "np.random.seed(42)\n",
    "\n",
    "# To plot pretty figures\n",
    "%matplotlib inline\n",
    "import matplotlib as mpl\n",
    "import matplotlib.pyplot as plt\n",
    "mpl.rc('axes', labelsize=14)\n",
    "mpl.rc('xtick', labelsize=12)\n",
    "mpl.rc('ytick', labelsize=12)\n",
    "\n",
    "# Where to save the figures\n",
    "PROJECT_ROOT_DIR = \".\"\n",
    "CHAPTER_ID = \"training_linear_models\"\n",
    "IMAGES_PATH = os.path.join(PROJECT_ROOT_DIR, \"images\", CHAPTER_ID)\n",
    "os.makedirs(IMAGES_PATH, exist_ok=True)\n",
    "\n",
    "def save_fig(fig_id, tight_layout=True, fig_extension=\"png\", resolution=300):\n",
    "    path = os.path.join(IMAGES_PATH, fig_id + \".\" + fig_extension)\n",
    "    print(\"Saving figure\", fig_id)\n",
    "    if tight_layout:\n",
    "        plt.tight_layout()\n",
    "    plt.savefig(path, format=fig_extension, dpi=resolution)\n",
    "\n",
    "# Ignore useless warnings (see SciPy issue #5998)\n",
    "import warnings\n",
    "warnings.filterwarnings(action=\"ignore\", message=\"^internal gelsd\")"
   ]
  },
  {
   "cell_type": "markdown",
   "metadata": {},
   "source": [
    "# 线性回归标准方程\n",
    "- 线性回归解析解"
   ]
  },
  {
   "cell_type": "code",
   "execution_count": 2,
   "metadata": {},
   "outputs": [],
   "source": [
    "import numpy as np\n",
    "X = 2 * np.random.rand(100,1)\n",
    "y = 4 + 3 * X + np.random.randn(100,1)"
   ]
  },
  {
   "cell_type": "markdown",
   "metadata": {},
   "source": [
    "- numpy.random.randn(d0, d1, …, dn)是从标准正态分布(均值为0，方差为1)中返回一个或多个样本值。\n",
    "- numpy.random.rand(d0, d1, …, dn)的随机样本位于[0, 1)中"
   ]
  },
  {
   "cell_type": "code",
   "execution_count": 3,
   "metadata": {},
   "outputs": [
    {
     "name": "stdout",
     "output_type": "stream",
     "text": [
      "Saving figure generated_data_plot\n"
     ]
    },
    {
     "data": {
      "image/png": "[encoded data removed]",
      "text/plain": [
       "<Figure size 432x288 with 1 Axes>"
      ]
     },
     "metadata": {
      "needs_background": "light"
     },
     "output_type": "display_data"
    }
   ],
   "source": [
    "plt.plot(X, y, \"b.\")\n",
    "plt.xlabel(\"$x_1$\", fontsize=18)\n",
    "plt.ylabel(\"$y$\", rotation=0, fontsize=18)\n",
    "plt.axis([0, 2, 0, 15])\n",
    "save_fig(\"generated_data_plot\")\n",
    "plt.show()"
   ]
  },
  {
   "cell_type": "code",
   "execution_count": 4,
   "metadata": {},
   "outputs": [],
   "source": [
    "# a = np.random.rand(10,1)\n",
    "# b = np.random.rand(10,2)\n",
    "# c = np.random.randn(10,1)\n",
    "# # print(a)\n",
    "# # print(b)\n",
    "# # print(c)"
   ]
  },
  {
   "cell_type": "markdown",
   "metadata": {},
   "source": [
    "- 在考虑y的时候是有常数的，因此在X_b中考虑加一列偏置项"
   ]
  },
  {
   "cell_type": "code",
   "execution_count": 5,
   "metadata": {},
   "outputs": [
    {
     "name": "stdout",
     "output_type": "stream",
     "text": [
      "[[4.21509616]\n",
      " [2.77011339]]\n"
     ]
    }
   ],
   "source": [
    "X_b = np.c_[np.ones((100,1)),X]\n",
    "theta_best = np.linalg.inv(X_b.T.dot(X_b)).dot(X_b.T).dot(y)\n",
    "print(theta_best)"
   ]
  },
  {
   "cell_type": "markdown",
   "metadata": {},
   "source": [
    "- #####np.r_是按列连接两个矩阵，就是把两矩阵上下相加，要求列数相等，类似于pandas中的concat()。\n",
    "- #####np.c_是按行连接两个矩阵，就是把两矩阵左右相加，要求行数相等，类似于pandas中的merge()。"
   ]
  },
  {
   "cell_type": "code",
   "execution_count": 12,
   "metadata": {
    "scrolled": true
   },
   "outputs": [
    {
     "name": "stdout",
     "output_type": "stream",
     "text": [
      "[[ 1  2  3]\n",
      " [ 4  5  6]\n",
      " [ 7  8  9]\n",
      " [14 15 16]]\n",
      "[[ 1  2  3  7  8  9]\n",
      " [ 4  5  6 14 15 16]]\n"
     ]
    }
   ],
   "source": [
    "a = np.array([[1, 2, 3],[4, 5, 6]])\n",
    "b = np.array([[7, 8, 9],[14, 15, 16]])\n",
    "\n",
    "print(np.r_[a,b])\n",
    "print(np.c_[a,b])"
   ]
  },
  {
   "cell_type": "markdown",
   "metadata": {},
   "source": [
    "- 预测"
   ]
  },
  {
   "cell_type": "code",
   "execution_count": 17,
   "metadata": {},
   "outputs": [
    {
     "name": "stdout",
     "output_type": "stream",
     "text": [
      "[[1. 0.]\n",
      " [1. 2.]]\n",
      "[[4.21509616]\n",
      " [9.75532293]]\n"
     ]
    }
   ],
   "source": [
    "X_new = np.array([[0], [2]])\n",
    "X_new_b = np.c_[np.ones((2, 1)), X_new]\n",
    "y_predict = X_new_b.dot(theta_best)\n",
    "print(X_new_b)\n",
    "print(y_predict)"
   ]
  },
  {
   "cell_type": "code",
   "execution_count": 15,
   "metadata": {
    "collapsed": true
   },
   "outputs": [
    {
     "data": {
      "image/png": "[encoded data removed]",
      "text/plain": [
       "<Figure size 432x288 with 1 Axes>"
      ]
     },
     "metadata": {
      "needs_background": "light"
     },
     "output_type": "display_data"
    }
   ],
   "source": [
    "plt.plot(X_new, y_predict, \"r-\")\n",
    "plt.plot(X, y, \"b.\")\n",
    "plt.axis([0, 2, 0, 15])\n",
    "plt.show()"
   ]
  },
  {
   "cell_type": "code",
   "execution_count": 21,
   "metadata": {},
   "outputs": [
    {
     "name": "stdout",
     "output_type": "stream",
     "text": [
      "Saving figure linear_model_predictions_plot\n"
     ]
    },
    {
     "data": {
      "image/png": "[encoded data removed]",
      "text/plain": [
       "<Figure size 432x288 with 1 Axes>"
      ]
     },
     "metadata": {
      "needs_background": "light"
     },
     "output_type": "display_data"
    }
   ],
   "source": [
    "plt.plot(X_new, y_predict, \"r-\", linewidth=2, label=\"Predictions\")\n",
    "plt.plot(X, y, \"b.\")\n",
    "plt.xlabel(\"$x_1$\", fontsize=18)\n",
    "plt.ylabel(\"$y$\", rotation=0, fontsize=18)\n",
    "plt.legend(loc=\"upper left\", fontsize=14)\n",
    "plt.axis([0, 2, 0, 15])\n",
    "save_fig(\"linear_model_predictions_plot\")\n",
    "plt.show()"
   ]
  },
  {
   "cell_type": "markdown",
   "metadata": {},
   "source": [
    "- sklearn等效代码"
   ]
  },
  {
   "cell_type": "code",
   "execution_count": 19,
   "metadata": {},
   "outputs": [
    {
     "data": {
      "text/plain": [
       "(array([4.21509616]), array([[2.77011339]]))"
      ]
     },
     "execution_count": 19,
     "metadata": {},
     "output_type": "execute_result"
    }
   ],
   "source": [
    "from sklearn.linear_model import LinearRegression\n",
    "lin_reg = LinearRegression()\n",
    "lin_reg.fit(X, y)\n",
    "lin_reg.intercept_, lin_reg.coef_ # 截矩项，回归系数(斜率)\n"
   ]
  },
  {
   "cell_type": "code",
   "execution_count": 20,
   "metadata": {},
   "outputs": [
    {
     "data": {
      "text/plain": [
       "array([[4.21509616],\n",
       "       [9.75532293]])"
      ]
     },
     "execution_count": 20,
     "metadata": {},
     "output_type": "execute_result"
    }
   ],
   "source": [
    "lin_reg.predict(X_new)"
   ]
  },
  {
   "cell_type": "code",
   "execution_count": 22,
   "metadata": {},
   "outputs": [
    {
     "data": {
      "text/plain": [
       "array([[4.21509616],\n",
       "       [2.77011339]])"
      ]
     },
     "execution_count": 22,
     "metadata": {},
     "output_type": "execute_result"
    }
   ],
   "source": [
    "# 最小二乘法\n",
    "theta_best_svd, residuals, rank, s = np.linalg.lstsq(X_b, y, rcond=1e-6)\n",
    "theta_best_svd"
   ]
  },
  {
   "cell_type": "code",
   "execution_count": 24,
   "metadata": {},
   "outputs": [
    {
     "data": {
      "text/plain": [
       "array([[4.21509616],\n",
       "       [2.77011339]])"
      ]
     },
     "execution_count": 24,
     "metadata": {},
     "output_type": "execute_result"
    }
   ],
   "source": [
    "# 伪逆\n",
    "np.linalg.pinv(X_b).dot(y)"
   ]
  },
  {
   "cell_type": "markdown",
   "metadata": {},
   "source": [
    "## 线性回归--批量梯度"
   ]
  },
  {
   "cell_type": "code",
   "execution_count": 25,
   "metadata": {},
   "outputs": [],
   "source": [
    "eta = 0.1  # learning rate\n",
    "n_iterations = 1000\n",
    "m = 100\n",
    "\n",
    "theta = np.random.randn(2,1)  # random initialization\n",
    "\n",
    "for iteration in range(n_iterations):\n",
    "    gradients = 2/m * X_b.T.dot(X_b.dot(theta) - y)\n",
    "    theta = theta - eta * gradients"
   ]
  },
  {
   "cell_type": "code",
   "execution_count": 26,
   "metadata": {},
   "outputs": [
    {
     "data": {
      "text/plain": [
       "array([[4.21509616],\n",
       "       [2.77011339]])"
      ]
     },
     "execution_count": 26,
     "metadata": {},
     "output_type": "execute_result"
    }
   ],
   "source": [
    "theta"
   ]
  },
  {
   "cell_type": "code",
   "execution_count": 27,
   "metadata": {},
   "outputs": [
    {
     "data": {
      "text/plain": [
       "array([[4.21509616],\n",
       "       [9.75532293]])"
      ]
     },
     "execution_count": 27,
     "metadata": {},
     "output_type": "execute_result"
    }
   ],
   "source": [
    "X_new_b.dot(theta)"
   ]
  },
  {
   "cell_type": "code",
   "execution_count": 28,
   "metadata": {},
   "outputs": [],
   "source": [
    "theta_path_bgd = [] # 可以用作画参数路径，见下对比\n",
    "\n",
    "def plot_gradient_descent(theta, eta, theta_path=None):\n",
    "    m = len(X_b)\n",
    "    plt.plot(X, y, \"b.\")\n",
    "    n_iterations = 1000\n",
    "    for iteration in range(n_iterations):\n",
    "        if iteration < 10:\n",
    "            y_predict = X_new_b.dot(theta)\n",
    "            style = \"b-\" if iteration > 0 else \"r--\"\n",
    "            plt.plot(X_new, y_predict, style)\n",
    "        gradients = 2/m * X_b.T.dot(X_b.dot(theta) - y)\n",
    "        theta = theta - eta * gradients\n",
    "        if theta_path is not None:\n",
    "            theta_path.append(theta)\n",
    "    plt.xlabel(\"$x_1$\", fontsize=18)\n",
    "    plt.axis([0, 2, 0, 15])\n",
    "    plt.title(r\"$\\eta = {}$\".format(eta), fontsize=16)"
   ]
  },
  {
   "cell_type": "code",
   "execution_count": 29,
   "metadata": {},
   "outputs": [
    {
     "name": "stdout",
     "output_type": "stream",
     "text": [
      "Saving figure gradient_descent_plot\n"
     ]
    },
    {
     "data": {
      "image/png": "[encoded data removed]",
      "text/plain": [
       "<Figure size 720x288 with 3 Axes>"
      ]
     },
     "metadata": {
      "needs_background": "light"
     },
     "output_type": "display_data"
    }
   ],
   "source": [
    "np.random.seed(42)\n",
    "theta = np.random.randn(2,1)  # random initialization\n",
    "\n",
    "plt.figure(figsize=(10,4))\n",
    "plt.subplot(131); plot_gradient_descent(theta, eta=0.02)\n",
    "plt.ylabel(\"$y$\", rotation=0, fontsize=18)\n",
    "plt.subplot(132); plot_gradient_descent(theta, eta=0.1, theta_path=theta_path_bgd)\n",
    "plt.subplot(133); plot_gradient_descent(theta, eta=0.5)\n",
    "\n",
    "save_fig(\"gradient_descent_plot\")\n",
    "plt.show()"
   ]
  },
  {
   "cell_type": "code",
   "execution_count": 30,
   "metadata": {},
   "outputs": [
    {
     "data": {
      "text/plain": [
       "[array([[1.78737583],\n",
       "        [1.27927812]]),\n",
       " array([[2.55330471],\n",
       "        [2.10402371]]),\n",
       " array([[3.01093601],\n",
       "        [2.58105009]]),\n",
       " array([[3.28732561],\n",
       "        [2.85420804]]),\n",
       " array([[3.45706384],\n",
       "        [3.00792898]]),\n",
       " array([[3.56394378],\n",
       "        [3.0917658 ]]),\n",
       " array([[3.63368035],\n",
       "        [3.13479813]]),\n",
       " array([[3.68137641],\n",
       "        [3.15408821]]),\n",
       " array([[3.71590533],\n",
       "        [3.15964433]]),\n",
       " array([[3.74248352],\n",
       "        [3.15733444]]),\n",
       " array([[3.76418049],\n",
       "        [3.15059636]]),\n",
       " array([[3.78280532],\n",
       "        [3.14144163]]),\n",
       " array([[3.79942693],\n",
       "        [3.13104483]]),\n",
       " array([[3.81467957],\n",
       "        [3.12008943]]),\n",
       " array([[3.82894209],\n",
       "        [3.10897085]]),\n",
       " array([[3.8424432 ],\n",
       "        [3.09791559]]),\n",
       " array([[3.85532328],\n",
       "        [3.08705122]]),\n",
       " array([[3.86767063],\n",
       "        [3.0764474 ]]),\n",
       " array([[3.87954279],\n",
       "        [3.06613997]]),\n",
       " array([[3.89097907],\n",
       "        [3.05614512]]),\n",
       " array([[3.90200784],\n",
       "        [3.04646763]]),\n",
       " array([[3.91265093],\n",
       "        [3.03710577]]),\n",
       " array([[3.9229261 ],\n",
       "        [3.02805413]]),\n",
       " array([[3.93284861],\n",
       "        [3.01930529]]),\n",
       " array([[3.94243202],\n",
       "        [3.01085082]]),\n",
       " array([[3.95168881],\n",
       "        [3.00268179]]),\n",
       " array([[3.9606306 ],\n",
       "        [2.99478913]]),\n",
       " array([[3.96926843],\n",
       "        [2.98716385]]),\n",
       " array([[3.9776128 ],\n",
       "        [2.97979708]]),\n",
       " array([[3.98567378],\n",
       "        [2.97268017]]),\n",
       " array([[3.99346105],\n",
       "        [2.96580472]]),\n",
       " array([[4.00098395],\n",
       "        [2.95916258]]),\n",
       " array([[4.00825148],\n",
       "        [2.95274585]]),\n",
       " array([[4.01527231],\n",
       "        [2.9465469 ]]),\n",
       " array([[4.02205482],\n",
       "        [2.94055834]]),\n",
       " array([[4.02860711],\n",
       "        [2.93477305]]),\n",
       " array([[4.034937  ],\n",
       "        [2.92918411]]),\n",
       " array([[4.04105204],\n",
       "        [2.92378488]]),\n",
       " array([[4.04695951],\n",
       "        [2.9185689 ]]),\n",
       " array([[4.05266647],\n",
       "        [2.91352997]]),\n",
       " array([[4.05817972],\n",
       "        [2.90866207]]),\n",
       " array([[4.06350584],\n",
       "        [2.9039594 ]]),\n",
       " array([[4.06865118],\n",
       "        [2.89941634]]),\n",
       " array([[4.07362187],\n",
       "        [2.89502749]]),\n",
       " array([[4.07842384],\n",
       "        [2.89078761]]),\n",
       " array([[4.08306283],\n",
       "        [2.88669164]]),\n",
       " array([[4.08754435],\n",
       "        [2.8827347 ]]),\n",
       " array([[4.09187377],\n",
       "        [2.87891206]]),\n",
       " array([[4.09605623],\n",
       "        [2.87521917]]),\n",
       " array([[4.10009673],\n",
       "        [2.87165163]]),\n",
       " array([[4.10400008],\n",
       "        [2.86820518]]),\n",
       " array([[4.10777095],\n",
       "        [2.86487571]]),\n",
       " array([[4.11141382],\n",
       "        [2.86165925]]),\n",
       " array([[4.11493305],\n",
       "        [2.85855197]]),\n",
       " array([[4.11833282],\n",
       "        [2.85555015]]),\n",
       " array([[4.1216172 ],\n",
       "        [2.85265023]]),\n",
       " array([[4.1247901 ],\n",
       "        [2.84984873]]),\n",
       " array([[4.1278553 ],\n",
       "        [2.84714232]]),\n",
       " array([[4.13081646],\n",
       "        [2.84452777]]),\n",
       " array([[4.13367712],\n",
       "        [2.84200197]]),\n",
       " array([[4.13644067],\n",
       "        [2.8395619 ]]),\n",
       " array([[4.13911043],\n",
       "        [2.83720465]]),\n",
       " array([[4.14168957],\n",
       "        [2.83492742]]),\n",
       " array([[4.14418116],\n",
       "        [2.83272747]]),\n",
       " array([[4.14658818],\n",
       "        [2.8306022 ]]),\n",
       " array([[4.14891351],\n",
       "        [2.82854907]]),\n",
       " array([[4.15115991],\n",
       "        [2.82656562]]),\n",
       " array([[4.15333005],\n",
       "        [2.8246495 ]]),\n",
       " array([[4.15542654],\n",
       "        [2.82279841]]),\n",
       " array([[4.15745187],\n",
       "        [2.82101016]]),\n",
       " array([[4.15940846],\n",
       "        [2.8192826 ]]),\n",
       " array([[4.16129863],\n",
       "        [2.81761368]]),\n",
       " array([[4.16312465],\n",
       "        [2.81600141]]),\n",
       " array([[4.16488868],\n",
       "        [2.81444386]]),\n",
       " array([[4.16659284],\n",
       "        [2.81293918]]),\n",
       " array([[4.16823916],\n",
       "        [2.81148557]]),\n",
       " array([[4.1698296],\n",
       "        [2.8100813]]),\n",
       " array([[4.17136606],\n",
       "        [2.80872469]]),\n",
       " array([[4.17285036],\n",
       "        [2.80741413]]),\n",
       " array([[4.17428428],\n",
       "        [2.80614805]]),\n",
       " array([[4.17566953],\n",
       "        [2.80492495]]),\n",
       " array([[4.17700777],\n",
       "        [2.80374336]]),\n",
       " array([[4.17830058],\n",
       "        [2.80260188]]),\n",
       " array([[4.17954951],\n",
       "        [2.80149915]]),\n",
       " array([[4.18075605],\n",
       "        [2.80043384]]),\n",
       " array([[4.18192163],\n",
       "        [2.79940469]]),\n",
       " array([[4.18304765],\n",
       "        [2.79841047]]),\n",
       " array([[4.18413546],\n",
       "        [2.79745   ]]),\n",
       " array([[4.18518634],\n",
       "        [2.79652213]]),\n",
       " array([[4.18620155],\n",
       "        [2.79562576]]),\n",
       " array([[4.1871823 ],\n",
       "        [2.79475981]]),\n",
       " array([[4.18812976],\n",
       "        [2.79392325]]),\n",
       " array([[4.18904507],\n",
       "        [2.79311508]]),\n",
       " array([[4.1899293 ],\n",
       "        [2.79233435]]),\n",
       " array([[4.19078353],\n",
       "        [2.79158012]]),\n",
       " array([[4.19160875],\n",
       "        [2.79085149]]),\n",
       " array([[4.19240597],\n",
       "        [2.79014759]]),\n",
       " array([[4.19317613],\n",
       "        [2.78946758]]),\n",
       " array([[4.19392015],\n",
       "        [2.78881065]]),\n",
       " array([[4.19463891],\n",
       "        [2.78817602]]),\n",
       " array([[4.19533328],\n",
       "        [2.78756293]]),\n",
       " array([[4.19600408],\n",
       "        [2.78697065]]),\n",
       " array([[4.19665211],\n",
       "        [2.78639848]]),\n",
       " array([[4.19727815],\n",
       "        [2.78584572]]),\n",
       " array([[4.19788293],\n",
       "        [2.78531173]]),\n",
       " array([[4.19846719],\n",
       "        [2.78479586]]),\n",
       " array([[4.19903162],\n",
       "        [2.7842975 ]]),\n",
       " array([[4.19957689],\n",
       "        [2.78381606]]),\n",
       " array([[4.20010365],\n",
       "        [2.78335096]]),\n",
       " array([[4.20061253],\n",
       "        [2.78290164]]),\n",
       " array([[4.20110414],\n",
       "        [2.78246758]]),\n",
       " array([[4.20157906],\n",
       "        [2.78204825]]),\n",
       " array([[4.20203786],\n",
       "        [2.78164315]]),\n",
       " array([[4.20248109],\n",
       "        [2.7812518 ]]),\n",
       " array([[4.20290928],\n",
       "        [2.78087374]]),\n",
       " array([[4.20332293],\n",
       "        [2.78050851]]),\n",
       " array([[4.20372254],\n",
       "        [2.78015567]]),\n",
       " array([[4.20410859],\n",
       "        [2.77981481]]),\n",
       " array([[4.20448153],\n",
       "        [2.77948552]]),\n",
       " array([[4.20484182],\n",
       "        [2.77916741]]),\n",
       " array([[4.20518987],\n",
       "        [2.7788601 ]]),\n",
       " array([[4.20552612],\n",
       "        [2.77856321]]),\n",
       " array([[4.20585095],\n",
       "        [2.7782764 ]]),\n",
       " array([[4.20616475],\n",
       "        [2.77799933]]),\n",
       " array([[4.20646791],\n",
       "        [2.77773166]]),\n",
       " array([[4.20676077],\n",
       "        [2.77747308]]),\n",
       " array([[4.20704369],\n",
       "        [2.77722328]]),\n",
       " array([[4.20731701],\n",
       "        [2.77698195]]),\n",
       " array([[4.20758105],\n",
       "        [2.77674881]]),\n",
       " array([[4.20783613],\n",
       "        [2.77652359]]),\n",
       " array([[4.20808256],\n",
       "        [2.77630601]]),\n",
       " array([[4.20832062],\n",
       "        [2.77609582]]),\n",
       " array([[4.20855059],\n",
       "        [2.77589276]]),\n",
       " array([[4.20877277],\n",
       "        [2.7756966 ]]),\n",
       " array([[4.2089874 ],\n",
       "        [2.77550709]]),\n",
       " array([[4.20919474],\n",
       "        [2.77532402]]),\n",
       " array([[4.20939505],\n",
       "        [2.77514715]]),\n",
       " array([[4.20958856],\n",
       "        [2.7749763 ]]),\n",
       " array([[4.2097755 ],\n",
       "        [2.77481124]]),\n",
       " array([[4.2099561 ],\n",
       "        [2.77465178]]),\n",
       " array([[4.21013056],\n",
       "        [2.77449774]]),\n",
       " array([[4.21029911],\n",
       "        [2.77434892]]),\n",
       " array([[4.21046193],\n",
       "        [2.77420516]]),\n",
       " array([[4.21061923],\n",
       "        [2.77406627]]),\n",
       " array([[4.21077118],\n",
       "        [2.7739321 ]]),\n",
       " array([[4.21091798],\n",
       "        [2.77380249]]),\n",
       " array([[4.2110598 ],\n",
       "        [2.77367727]]),\n",
       " array([[4.21119681],\n",
       "        [2.7735563 ]]),\n",
       " array([[4.21132916],\n",
       "        [2.77343944]]),\n",
       " array([[4.21145702],\n",
       "        [2.77332655]]),\n",
       " array([[4.21158054],\n",
       "        [2.77321749]]),\n",
       " array([[4.21169987],\n",
       "        [2.77311212]]),\n",
       " array([[4.21181515],\n",
       "        [2.77301034]]),\n",
       " array([[4.21192651],\n",
       "        [2.77291201]]),\n",
       " array([[4.2120341 ],\n",
       "        [2.77281702]]),\n",
       " array([[4.21213803],\n",
       "        [2.77272525]]),\n",
       " array([[4.21223844],\n",
       "        [2.7726366 ]]),\n",
       " array([[4.21233543],\n",
       "        [2.77255095]]),\n",
       " array([[4.21242914],\n",
       "        [2.77246822]]),\n",
       " array([[4.21251967],\n",
       "        [2.77238829]]),\n",
       " array([[4.21260712],\n",
       "        [2.77231107]]),\n",
       " array([[4.2126916 ],\n",
       "        [2.77223648]]),\n",
       " array([[4.21277322],\n",
       "        [2.77216442]]),\n",
       " array([[4.21285206],\n",
       "        [2.7720948 ]]),\n",
       " array([[4.21292823],\n",
       "        [2.77202755]]),\n",
       " array([[4.21300182],\n",
       "        [2.77196257]]),\n",
       " array([[4.21307291],\n",
       "        [2.77189981]]),\n",
       " array([[4.21314158],\n",
       "        [2.77183917]]),\n",
       " array([[4.21320792],\n",
       "        [2.7717806 ]]),\n",
       " array([[4.21327201],\n",
       "        [2.77172401]]),\n",
       " array([[4.21333393],\n",
       "        [2.77166934]]),\n",
       " array([[4.21339374],\n",
       "        [2.77161653]]),\n",
       " array([[4.21345153],\n",
       "        [2.77156551]]),\n",
       " array([[4.21350735],\n",
       "        [2.77151622]]),\n",
       " array([[4.21356128],\n",
       "        [2.7714686 ]]),\n",
       " array([[4.21361338],\n",
       "        [2.7714226 ]]),\n",
       " array([[4.2136637 ],\n",
       "        [2.77137816]]),\n",
       " array([[4.21371233],\n",
       "        [2.77133523]]),\n",
       " array([[4.2137593 ],\n",
       "        [2.77129376]]),\n",
       " array([[4.21380467],\n",
       "        [2.7712537 ]]),\n",
       " array([[4.21384851],\n",
       "        [2.77121499]]),\n",
       " array([[4.21389086],\n",
       "        [2.7711776 ]]),\n",
       " array([[4.21393177],\n",
       "        [2.77114148]]),\n",
       " array([[4.21397129],\n",
       "        [2.77110658]]),\n",
       " array([[4.21400947],\n",
       "        [2.77107287]]),\n",
       " array([[4.21404636],\n",
       "        [2.7710403 ]]),\n",
       " array([[4.21408199],\n",
       "        [2.77100884]]),\n",
       " array([[4.21411641],\n",
       "        [2.77097845]]),\n",
       " array([[4.21414967],\n",
       "        [2.77094909]]),\n",
       " array([[4.21418179],\n",
       "        [2.77092072]]),\n",
       " array([[4.21421283],\n",
       "        [2.77089332]]),\n",
       " array([[4.21424281],\n",
       "        [2.77086685]]),\n",
       " array([[4.21427178],\n",
       "        [2.77084127]]),\n",
       " array([[4.21429976],\n",
       "        [2.77081657]]),\n",
       " array([[4.21432679],\n",
       "        [2.7707927 ]]),\n",
       " array([[4.2143529 ],\n",
       "        [2.77076964]]),\n",
       " array([[4.21437813],\n",
       "        [2.77074737]]),\n",
       " array([[4.2144025 ],\n",
       "        [2.77072585]]),\n",
       " array([[4.21442605],\n",
       "        [2.77070506]]),\n",
       " array([[4.21444879],\n",
       "        [2.77068498]]),\n",
       " array([[4.21447076],\n",
       "        [2.77066557]]),\n",
       " array([[4.21449199],\n",
       "        [2.77064683]]),\n",
       " array([[4.2145125 ],\n",
       "        [2.77062873]]),\n",
       " array([[4.21453231],\n",
       "        [2.77061123]]),\n",
       " array([[4.21455145],\n",
       "        [2.77059434]]),\n",
       " array([[4.21456994],\n",
       "        [2.77057801]]),\n",
       " array([[4.2145878 ],\n",
       "        [2.77056224]]),\n",
       " array([[4.21460505],\n",
       "        [2.77054701]]),\n",
       " array([[4.21462172],\n",
       "        [2.77053229]]),\n",
       " array([[4.21463783],\n",
       "        [2.77051807]]),\n",
       " array([[4.21465338],\n",
       "        [2.77050433]]),\n",
       " array([[4.21466841],\n",
       "        [2.77049106]]),\n",
       " array([[4.21468293],\n",
       "        [2.77047824]]),\n",
       " array([[4.21469696],\n",
       "        [2.77046586]]),\n",
       " array([[4.21471051],\n",
       "        [2.7704539 ]]),\n",
       " array([[4.2147236 ],\n",
       "        [2.77044234]]),\n",
       " array([[4.21473624],\n",
       "        [2.77043117]]),\n",
       " array([[4.21474846],\n",
       "        [2.77042039]]),\n",
       " array([[4.21476026],\n",
       "        [2.77040997]]),\n",
       " array([[4.21477166],\n",
       "        [2.7703999 ]]),\n",
       " array([[4.21478267],\n",
       "        [2.77039017]]),\n",
       " array([[4.21479332],\n",
       "        [2.77038078]]),\n",
       " array([[4.21480359],\n",
       "        [2.7703717 ]]),\n",
       " array([[4.21481352],\n",
       "        [2.77036294]]),\n",
       " array([[4.21482312],\n",
       "        [2.77035447]]),\n",
       " array([[4.21483239],\n",
       "        [2.77034628]]),\n",
       " array([[4.21484134],\n",
       "        [2.77033838]]),\n",
       " array([[4.21484999],\n",
       "        [2.77033074]]),\n",
       " array([[4.21485834],\n",
       "        [2.77032336]]),\n",
       " array([[4.21486642],\n",
       "        [2.77031624]]),\n",
       " array([[4.21487421],\n",
       "        [2.77030935]]),\n",
       " array([[4.21488175],\n",
       "        [2.7703027 ]]),\n",
       " array([[4.21488902],\n",
       "        [2.77029627]]),\n",
       " array([[4.21489605],\n",
       "        [2.77029007]]),\n",
       " array([[4.21490285],\n",
       "        [2.77028407]]),\n",
       " array([[4.21490941],\n",
       "        [2.77027828]]),\n",
       " array([[4.21491575],\n",
       "        [2.77027268]]),\n",
       " array([[4.21492187],\n",
       "        [2.77026727]]),\n",
       " array([[4.21492779],\n",
       "        [2.77026205]]),\n",
       " array([[4.2149335],\n",
       "        [2.770257 ]]),\n",
       " array([[4.21493902],\n",
       "        [2.77025213]]),\n",
       " array([[4.21494436],\n",
       "        [2.77024742]]),\n",
       " array([[4.21494951],\n",
       "        [2.77024287]]),\n",
       " array([[4.21495449],\n",
       "        [2.77023847]]),\n",
       " array([[4.21495929],\n",
       "        [2.77023423]]),\n",
       " array([[4.21496394],\n",
       "        [2.77023013]]),\n",
       " array([[4.21496843],\n",
       "        [2.77022616]]),\n",
       " array([[4.21497276],\n",
       "        [2.77022234]]),\n",
       " array([[4.21497695],\n",
       "        [2.77021864]]),\n",
       " array([[4.214981  ],\n",
       "        [2.77021507]]),\n",
       " array([[4.21498491],\n",
       "        [2.77021162]]),\n",
       " array([[4.21498868],\n",
       "        [2.77020828]]),\n",
       " array([[4.21499233],\n",
       "        [2.77020506]]),\n",
       " array([[4.21499585],\n",
       "        [2.77020195]]),\n",
       " array([[4.21499926],\n",
       "        [2.77019894]]),\n",
       " array([[4.21500255],\n",
       "        [2.77019604]]),\n",
       " array([[4.21500573],\n",
       "        [2.77019323]]),\n",
       " array([[4.21500879],\n",
       "        [2.77019052]]),\n",
       " array([[4.21501176],\n",
       "        [2.7701879 ]]),\n",
       " array([[4.21501462],\n",
       "        [2.77018538]]),\n",
       " array([[4.21501739],\n",
       "        [2.77018293]]),\n",
       " array([[4.21502007],\n",
       "        [2.77018057]]),\n",
       " array([[4.21502265],\n",
       "        [2.77017829]]),\n",
       " array([[4.21502514],\n",
       "        [2.77017609]]),\n",
       " array([[4.21502755],\n",
       "        [2.77017396]]),\n",
       " array([[4.21502988],\n",
       "        [2.7701719 ]]),\n",
       " array([[4.21503213],\n",
       "        [2.77016992]]),\n",
       " array([[4.21503431],\n",
       "        [2.770168  ]]),\n",
       " array([[4.2150364 ],\n",
       "        [2.77016614]]),\n",
       " array([[4.21503843],\n",
       "        [2.77016435]]),\n",
       " array([[4.21504039],\n",
       "        [2.77016262]]),\n",
       " array([[4.21504228],\n",
       "        [2.77016095]]),\n",
       " array([[4.21504411],\n",
       "        [2.77015934]]),\n",
       " array([[4.21504588],\n",
       "        [2.77015778]]),\n",
       " array([[4.21504759],\n",
       "        [2.77015627]]),\n",
       " array([[4.21504924],\n",
       "        [2.77015482]]),\n",
       " array([[4.21505083],\n",
       "        [2.77015341]]),\n",
       " array([[4.21505237],\n",
       "        [2.77015205]]),\n",
       " array([[4.21505385],\n",
       "        [2.77015074]]),\n",
       " array([[4.21505529],\n",
       "        [2.77014947]]),\n",
       " array([[4.21505668],\n",
       "        [2.77014825]]),\n",
       " array([[4.21505802],\n",
       "        [2.77014706]]),\n",
       " array([[4.21505931],\n",
       "        [2.77014592]]),\n",
       " array([[4.21506056],\n",
       "        [2.77014482]]),\n",
       " array([[4.21506177],\n",
       "        [2.77014375]]),\n",
       " array([[4.21506294],\n",
       "        [2.77014272]]),\n",
       " array([[4.21506406],\n",
       "        [2.77014172]]),\n",
       " array([[4.21506515],\n",
       "        [2.77014076]]),\n",
       " array([[4.21506621],\n",
       "        [2.77013983]]),\n",
       " array([[4.21506722],\n",
       "        [2.77013893]]),\n",
       " array([[4.2150682 ],\n",
       "        [2.77013807]]),\n",
       " array([[4.21506915],\n",
       "        [2.77013723]]),\n",
       " array([[4.21507007],\n",
       "        [2.77013642]]),\n",
       " array([[4.21507096],\n",
       "        [2.77013564]]),\n",
       " array([[4.21507181],\n",
       "        [2.77013488]]),\n",
       " array([[4.21507264],\n",
       "        [2.77013415]]),\n",
       " array([[4.21507344],\n",
       "        [2.77013345]]),\n",
       " array([[4.21507421],\n",
       "        [2.77013277]]),\n",
       " array([[4.21507495],\n",
       "        [2.77013211]]),\n",
       " array([[4.21507567],\n",
       "        [2.77013147]]),\n",
       " array([[4.21507637],\n",
       "        [2.77013086]]),\n",
       " array([[4.21507704],\n",
       "        [2.77013027]]),\n",
       " array([[4.21507769],\n",
       "        [2.77012969]]),\n",
       " array([[4.21507831],\n",
       "        [2.77012914]]),\n",
       " array([[4.21507892],\n",
       "        [2.77012861]]),\n",
       " array([[4.21507951],\n",
       "        [2.77012809]]),\n",
       " array([[4.21508007],\n",
       "        [2.77012759]]),\n",
       " array([[4.21508062],\n",
       "        [2.77012711]]),\n",
       " array([[4.21508114],\n",
       "        [2.77012664]]),\n",
       " array([[4.21508165],\n",
       "        [2.77012619]]),\n",
       " array([[4.21508215],\n",
       "        [2.77012576]]),\n",
       " array([[4.21508262],\n",
       "        [2.77012534]]),\n",
       " array([[4.21508308],\n",
       "        [2.77012493]]),\n",
       " array([[4.21508352],\n",
       "        [2.77012454]]),\n",
       " array([[4.21508395],\n",
       "        [2.77012416]]),\n",
       " array([[4.21508437],\n",
       "        [2.7701238 ]]),\n",
       " array([[4.21508477],\n",
       "        [2.77012344]]),\n",
       " array([[4.21508515],\n",
       "        [2.7701231 ]]),\n",
       " array([[4.21508553],\n",
       "        [2.77012277]]),\n",
       " array([[4.21508589],\n",
       "        [2.77012245]]),\n",
       " array([[4.21508624],\n",
       "        [2.77012215]]),\n",
       " array([[4.21508657],\n",
       "        [2.77012185]]),\n",
       " array([[4.2150869 ],\n",
       "        [2.77012156]]),\n",
       " array([[4.21508721],\n",
       "        [2.77012128]]),\n",
       " array([[4.21508752],\n",
       "        [2.77012102]]),\n",
       " array([[4.21508781],\n",
       "        [2.77012076]]),\n",
       " array([[4.21508809],\n",
       "        [2.77012051]]),\n",
       " array([[4.21508837],\n",
       "        [2.77012026]]),\n",
       " array([[4.21508863],\n",
       "        [2.77012003]]),\n",
       " array([[4.21508889],\n",
       "        [2.77011981]]),\n",
       " array([[4.21508913],\n",
       "        [2.77011959]]),\n",
       " array([[4.21508937],\n",
       "        [2.77011938]]),\n",
       " array([[4.2150896 ],\n",
       "        [2.77011917]]),\n",
       " array([[4.21508983],\n",
       "        [2.77011898]]),\n",
       " array([[4.21509004],\n",
       "        [2.77011879]]),\n",
       " array([[4.21509025],\n",
       "        [2.7701186 ]]),\n",
       " array([[4.21509045],\n",
       "        [2.77011843]]),\n",
       " array([[4.21509064],\n",
       "        [2.77011826]]),\n",
       " array([[4.21509083],\n",
       "        [2.77011809]]),\n",
       " array([[4.21509101],\n",
       "        [2.77011793]]),\n",
       " array([[4.21509119],\n",
       "        [2.77011778]]),\n",
       " array([[4.21509135],\n",
       "        [2.77011763]]),\n",
       " array([[4.21509152],\n",
       "        [2.77011748]]),\n",
       " array([[4.21509167],\n",
       "        [2.77011734]]),\n",
       " array([[4.21509183],\n",
       "        [2.77011721]]),\n",
       " array([[4.21509197],\n",
       "        [2.77011708]]),\n",
       " array([[4.21509212],\n",
       "        [2.77011696]]),\n",
       " array([[4.21509225],\n",
       "        [2.77011683]]),\n",
       " array([[4.21509239],\n",
       "        [2.77011672]]),\n",
       " array([[4.21509251],\n",
       "        [2.7701166 ]]),\n",
       " array([[4.21509264],\n",
       "        [2.77011649]]),\n",
       " array([[4.21509276],\n",
       "        [2.77011639]]),\n",
       " array([[4.21509287],\n",
       "        [2.77011629]]),\n",
       " array([[4.21509298],\n",
       "        [2.77011619]]),\n",
       " array([[4.21509309],\n",
       "        [2.77011609]]),\n",
       " array([[4.2150932],\n",
       "        [2.770116 ]]),\n",
       " array([[4.2150933 ],\n",
       "        [2.77011591]]),\n",
       " array([[4.21509339],\n",
       "        [2.77011583]]),\n",
       " array([[4.21509349],\n",
       "        [2.77011574]]),\n",
       " array([[4.21509358],\n",
       "        [2.77011566]]),\n",
       " array([[4.21509367],\n",
       "        [2.77011559]]),\n",
       " array([[4.21509375],\n",
       "        [2.77011551]]),\n",
       " array([[4.21509383],\n",
       "        [2.77011544]]),\n",
       " array([[4.21509391],\n",
       "        [2.77011537]]),\n",
       " array([[4.21509399],\n",
       "        [2.7701153 ]]),\n",
       " array([[4.21509406],\n",
       "        [2.77011524]]),\n",
       " array([[4.21509413],\n",
       "        [2.77011518]]),\n",
       " array([[4.2150942 ],\n",
       "        [2.77011511]]),\n",
       " array([[4.21509427],\n",
       "        [2.77011506]]),\n",
       " array([[4.21509433],\n",
       "        [2.770115  ]]),\n",
       " array([[4.21509439],\n",
       "        [2.77011494]]),\n",
       " array([[4.21509445],\n",
       "        [2.77011489]]),\n",
       " array([[4.21509451],\n",
       "        [2.77011484]]),\n",
       " array([[4.21509457],\n",
       "        [2.77011479]]),\n",
       " array([[4.21509462],\n",
       "        [2.77011474]]),\n",
       " array([[4.21509467],\n",
       "        [2.7701147 ]]),\n",
       " array([[4.21509472],\n",
       "        [2.77011465]]),\n",
       " array([[4.21509477],\n",
       "        [2.77011461]]),\n",
       " array([[4.21509482],\n",
       "        [2.77011457]]),\n",
       " array([[4.21509486],\n",
       "        [2.77011453]]),\n",
       " array([[4.21509491],\n",
       "        [2.77011449]]),\n",
       " array([[4.21509495],\n",
       "        [2.77011445]]),\n",
       " array([[4.21509499],\n",
       "        [2.77011442]]),\n",
       " array([[4.21509503],\n",
       "        [2.77011438]]),\n",
       " array([[4.21509507],\n",
       "        [2.77011435]]),\n",
       " array([[4.21509511],\n",
       "        [2.77011431]]),\n",
       " array([[4.21509514],\n",
       "        [2.77011428]]),\n",
       " array([[4.21509518],\n",
       "        [2.77011425]]),\n",
       " array([[4.21509521],\n",
       "        [2.77011422]]),\n",
       " array([[4.21509524],\n",
       "        [2.77011419]]),\n",
       " array([[4.21509527],\n",
       "        [2.77011417]]),\n",
       " array([[4.2150953 ],\n",
       "        [2.77011414]]),\n",
       " array([[4.21509533],\n",
       "        [2.77011412]]),\n",
       " array([[4.21509536],\n",
       "        [2.77011409]]),\n",
       " array([[4.21509539],\n",
       "        [2.77011407]]),\n",
       " array([[4.21509541],\n",
       "        [2.77011404]]),\n",
       " array([[4.21509544],\n",
       "        [2.77011402]]),\n",
       " array([[4.21509546],\n",
       "        [2.770114  ]]),\n",
       " array([[4.21509549],\n",
       "        [2.77011398]]),\n",
       " array([[4.21509551],\n",
       "        [2.77011396]]),\n",
       " array([[4.21509553],\n",
       "        [2.77011394]]),\n",
       " array([[4.21509555],\n",
       "        [2.77011392]]),\n",
       " array([[4.21509557],\n",
       "        [2.7701139 ]]),\n",
       " array([[4.21509559],\n",
       "        [2.77011388]]),\n",
       " array([[4.21509561],\n",
       "        [2.77011387]]),\n",
       " array([[4.21509563],\n",
       "        [2.77011385]]),\n",
       " array([[4.21509565],\n",
       "        [2.77011384]]),\n",
       " array([[4.21509567],\n",
       "        [2.77011382]]),\n",
       " array([[4.21509568],\n",
       "        [2.77011381]]),\n",
       " array([[4.2150957 ],\n",
       "        [2.77011379]]),\n",
       " array([[4.21509571],\n",
       "        [2.77011378]]),\n",
       " array([[4.21509573],\n",
       "        [2.77011376]]),\n",
       " array([[4.21509574],\n",
       "        [2.77011375]]),\n",
       " array([[4.21509576],\n",
       "        [2.77011374]]),\n",
       " array([[4.21509577],\n",
       "        [2.77011373]]),\n",
       " array([[4.21509578],\n",
       "        [2.77011372]]),\n",
       " array([[4.2150958],\n",
       "        [2.7701137]]),\n",
       " array([[4.21509581],\n",
       "        [2.77011369]]),\n",
       " array([[4.21509582],\n",
       "        [2.77011368]]),\n",
       " array([[4.21509583],\n",
       "        [2.77011367]]),\n",
       " array([[4.21509584],\n",
       "        [2.77011366]]),\n",
       " array([[4.21509585],\n",
       "        [2.77011365]]),\n",
       " array([[4.21509586],\n",
       "        [2.77011365]]),\n",
       " array([[4.21509587],\n",
       "        [2.77011364]]),\n",
       " array([[4.21509588],\n",
       "        [2.77011363]]),\n",
       " array([[4.21509589],\n",
       "        [2.77011362]]),\n",
       " array([[4.2150959 ],\n",
       "        [2.77011361]]),\n",
       " array([[4.21509591],\n",
       "        [2.7701136 ]]),\n",
       " array([[4.21509592],\n",
       "        [2.7701136 ]]),\n",
       " array([[4.21509593],\n",
       "        [2.77011359]]),\n",
       " array([[4.21509594],\n",
       "        [2.77011358]]),\n",
       " array([[4.21509594],\n",
       "        [2.77011358]]),\n",
       " array([[4.21509595],\n",
       "        [2.77011357]]),\n",
       " array([[4.21509596],\n",
       "        [2.77011356]]),\n",
       " array([[4.21509596],\n",
       "        [2.77011356]]),\n",
       " array([[4.21509597],\n",
       "        [2.77011355]]),\n",
       " array([[4.21509598],\n",
       "        [2.77011355]]),\n",
       " array([[4.21509598],\n",
       "        [2.77011354]]),\n",
       " array([[4.21509599],\n",
       "        [2.77011354]]),\n",
       " array([[4.21509599],\n",
       "        [2.77011353]]),\n",
       " array([[4.215096  ],\n",
       "        [2.77011353]]),\n",
       " array([[4.21509601],\n",
       "        [2.77011352]]),\n",
       " array([[4.21509601],\n",
       "        [2.77011352]]),\n",
       " array([[4.21509602],\n",
       "        [2.77011351]]),\n",
       " array([[4.21509602],\n",
       "        [2.77011351]]),\n",
       " array([[4.21509603],\n",
       "        [2.7701135 ]]),\n",
       " array([[4.21509603],\n",
       "        [2.7701135 ]]),\n",
       " array([[4.21509603],\n",
       "        [2.7701135 ]]),\n",
       " array([[4.21509604],\n",
       "        [2.77011349]]),\n",
       " array([[4.21509604],\n",
       "        [2.77011349]]),\n",
       " array([[4.21509605],\n",
       "        [2.77011348]]),\n",
       " array([[4.21509605],\n",
       "        [2.77011348]]),\n",
       " array([[4.21509605],\n",
       "        [2.77011348]]),\n",
       " array([[4.21509606],\n",
       "        [2.77011348]]),\n",
       " array([[4.21509606],\n",
       "        [2.77011347]]),\n",
       " array([[4.21509606],\n",
       "        [2.77011347]]),\n",
       " array([[4.21509607],\n",
       "        [2.77011347]]),\n",
       " array([[4.21509607],\n",
       "        [2.77011346]]),\n",
       " array([[4.21509607],\n",
       "        [2.77011346]]),\n",
       " array([[4.21509608],\n",
       "        [2.77011346]]),\n",
       " array([[4.21509608],\n",
       "        [2.77011346]]),\n",
       " array([[4.21509608],\n",
       "        [2.77011345]]),\n",
       " array([[4.21509608],\n",
       "        [2.77011345]]),\n",
       " array([[4.21509609],\n",
       "        [2.77011345]]),\n",
       " array([[4.21509609],\n",
       "        [2.77011345]]),\n",
       " array([[4.21509609],\n",
       "        [2.77011345]]),\n",
       " array([[4.21509609],\n",
       "        [2.77011344]]),\n",
       " array([[4.2150961 ],\n",
       "        [2.77011344]]),\n",
       " array([[4.2150961 ],\n",
       "        [2.77011344]]),\n",
       " array([[4.2150961 ],\n",
       "        [2.77011344]]),\n",
       " array([[4.2150961 ],\n",
       "        [2.77011344]]),\n",
       " array([[4.2150961 ],\n",
       "        [2.77011343]]),\n",
       " array([[4.21509611],\n",
       "        [2.77011343]]),\n",
       " array([[4.21509611],\n",
       "        [2.77011343]]),\n",
       " array([[4.21509611],\n",
       "        [2.77011343]]),\n",
       " array([[4.21509611],\n",
       "        [2.77011343]]),\n",
       " array([[4.21509611],\n",
       "        [2.77011343]]),\n",
       " array([[4.21509611],\n",
       "        [2.77011343]]),\n",
       " array([[4.21509612],\n",
       "        [2.77011342]]),\n",
       " array([[4.21509612],\n",
       "        [2.77011342]]),\n",
       " array([[4.21509612],\n",
       "        [2.77011342]]),\n",
       " array([[4.21509612],\n",
       "        [2.77011342]]),\n",
       " array([[4.21509612],\n",
       "        [2.77011342]]),\n",
       " array([[4.21509612],\n",
       "        [2.77011342]]),\n",
       " array([[4.21509612],\n",
       "        [2.77011342]]),\n",
       " array([[4.21509612],\n",
       "        [2.77011342]]),\n",
       " array([[4.21509613],\n",
       "        [2.77011341]]),\n",
       " array([[4.21509613],\n",
       "        [2.77011341]]),\n",
       " array([[4.21509613],\n",
       "        [2.77011341]]),\n",
       " array([[4.21509613],\n",
       "        [2.77011341]]),\n",
       " array([[4.21509613],\n",
       "        [2.77011341]]),\n",
       " array([[4.21509613],\n",
       "        [2.77011341]]),\n",
       " array([[4.21509613],\n",
       "        [2.77011341]]),\n",
       " array([[4.21509613],\n",
       "        [2.77011341]]),\n",
       " array([[4.21509613],\n",
       "        [2.77011341]]),\n",
       " array([[4.21509613],\n",
       "        [2.77011341]]),\n",
       " array([[4.21509613],\n",
       "        [2.77011341]]),\n",
       " array([[4.21509614],\n",
       "        [2.77011341]]),\n",
       " array([[4.21509614],\n",
       "        [2.77011341]]),\n",
       " array([[4.21509614],\n",
       "        [2.7701134 ]]),\n",
       " array([[4.21509614],\n",
       "        [2.7701134 ]]),\n",
       " array([[4.21509614],\n",
       "        [2.7701134 ]]),\n",
       " array([[4.21509614],\n",
       "        [2.7701134 ]]),\n",
       " array([[4.21509614],\n",
       "        [2.7701134 ]]),\n",
       " array([[4.21509614],\n",
       "        [2.7701134 ]]),\n",
       " array([[4.21509614],\n",
       "        [2.7701134 ]]),\n",
       " array([[4.21509614],\n",
       "        [2.7701134 ]]),\n",
       " array([[4.21509614],\n",
       "        [2.7701134 ]]),\n",
       " array([[4.21509614],\n",
       "        [2.7701134 ]]),\n",
       " array([[4.21509614],\n",
       "        [2.7701134 ]]),\n",
       " array([[4.21509614],\n",
       "        [2.7701134 ]]),\n",
       " array([[4.21509614],\n",
       "        [2.7701134 ]]),\n",
       " array([[4.21509614],\n",
       "        [2.7701134 ]]),\n",
       " array([[4.21509614],\n",
       "        [2.7701134 ]]),\n",
       " array([[4.21509615],\n",
       "        [2.7701134 ]]),\n",
       " array([[4.21509615],\n",
       "        [2.7701134 ]]),\n",
       " array([[4.21509615],\n",
       "        [2.7701134 ]]),\n",
       " array([[4.21509615],\n",
       "        [2.7701134 ]]),\n",
       " array([[4.21509615],\n",
       "        [2.7701134 ]]),\n",
       " array([[4.21509615],\n",
       "        [2.7701134 ]]),\n",
       " array([[4.21509615],\n",
       "        [2.7701134 ]]),\n",
       " array([[4.21509615],\n",
       "        [2.77011339]]),\n",
       " array([[4.21509615],\n",
       "        [2.77011339]]),\n",
       " array([[4.21509615],\n",
       "        [2.77011339]]),\n",
       " array([[4.21509615],\n",
       "        [2.77011339]]),\n",
       " array([[4.21509615],\n",
       "        [2.77011339]]),\n",
       " array([[4.21509615],\n",
       "        [2.77011339]]),\n",
       " array([[4.21509615],\n",
       "        [2.77011339]]),\n",
       " array([[4.21509615],\n",
       "        [2.77011339]]),\n",
       " array([[4.21509615],\n",
       "        [2.77011339]]),\n",
       " array([[4.21509615],\n",
       "        [2.77011339]]),\n",
       " array([[4.21509615],\n",
       "        [2.77011339]]),\n",
       " array([[4.21509615],\n",
       "        [2.77011339]]),\n",
       " array([[4.21509615],\n",
       "        [2.77011339]]),\n",
       " array([[4.21509615],\n",
       "        [2.77011339]]),\n",
       " array([[4.21509615],\n",
       "        [2.77011339]]),\n",
       " array([[4.21509615],\n",
       "        [2.77011339]]),\n",
       " array([[4.21509615],\n",
       "        [2.77011339]]),\n",
       " array([[4.21509615],\n",
       "        [2.77011339]]),\n",
       " array([[4.21509615],\n",
       "        [2.77011339]]),\n",
       " array([[4.21509615],\n",
       "        [2.77011339]]),\n",
       " array([[4.21509615],\n",
       "        [2.77011339]]),\n",
       " array([[4.21509615],\n",
       "        [2.77011339]]),\n",
       " array([[4.21509615],\n",
       "        [2.77011339]]),\n",
       " array([[4.21509615],\n",
       "        [2.77011339]]),\n",
       " array([[4.21509615],\n",
       "        [2.77011339]]),\n",
       " array([[4.21509615],\n",
       "        [2.77011339]]),\n",
       " array([[4.21509615],\n",
       "        [2.77011339]]),\n",
       " array([[4.21509615],\n",
       "        [2.77011339]]),\n",
       " array([[4.21509615],\n",
       "        [2.77011339]]),\n",
       " array([[4.21509615],\n",
       "        [2.77011339]]),\n",
       " array([[4.21509615],\n",
       "        [2.77011339]]),\n",
       " array([[4.21509615],\n",
       "        [2.77011339]]),\n",
       " array([[4.21509615],\n",
       "        [2.77011339]]),\n",
       " array([[4.21509615],\n",
       "        [2.77011339]]),\n",
       " array([[4.21509615],\n",
       "        [2.77011339]]),\n",
       " array([[4.21509615],\n",
       "        [2.77011339]]),\n",
       " array([[4.21509615],\n",
       "        [2.77011339]]),\n",
       " array([[4.21509615],\n",
       "        [2.77011339]]),\n",
       " array([[4.21509615],\n",
       "        [2.77011339]]),\n",
       " array([[4.21509616],\n",
       "        [2.77011339]]),\n",
       " array([[4.21509616],\n",
       "        [2.77011339]]),\n",
       " array([[4.21509616],\n",
       "        [2.77011339]]),\n",
       " array([[4.21509616],\n",
       "        [2.77011339]]),\n",
       " array([[4.21509616],\n",
       "        [2.77011339]]),\n",
       " array([[4.21509616],\n",
       "        [2.77011339]]),\n",
       " array([[4.21509616],\n",
       "        [2.77011339]]),\n",
       " array([[4.21509616],\n",
       "        [2.77011339]]),\n",
       " array([[4.21509616],\n",
       "        [2.77011339]]),\n",
       " array([[4.21509616],\n",
       "        [2.77011339]]),\n",
       " array([[4.21509616],\n",
       "        [2.77011339]]),\n",
       " array([[4.21509616],\n",
       "        [2.77011339]]),\n",
       " array([[4.21509616],\n",
       "        [2.77011339]]),\n",
       " array([[4.21509616],\n",
       "        [2.77011339]]),\n",
       " array([[4.21509616],\n",
       "        [2.77011339]]),\n",
       " array([[4.21509616],\n",
       "        [2.77011339]]),\n",
       " array([[4.21509616],\n",
       "        [2.77011339]]),\n",
       " array([[4.21509616],\n",
       "        [2.77011339]]),\n",
       " array([[4.21509616],\n",
       "        [2.77011339]]),\n",
       " array([[4.21509616],\n",
       "        [2.77011339]]),\n",
       " array([[4.21509616],\n",
       "        [2.77011339]]),\n",
       " array([[4.21509616],\n",
       "        [2.77011339]]),\n",
       " array([[4.21509616],\n",
       "        [2.77011339]]),\n",
       " array([[4.21509616],\n",
       "        [2.77011339]]),\n",
       " array([[4.21509616],\n",
       "        [2.77011339]]),\n",
       " array([[4.21509616],\n",
       "        [2.77011339]]),\n",
       " array([[4.21509616],\n",
       "        [2.77011339]]),\n",
       " array([[4.21509616],\n",
       "        [2.77011339]]),\n",
       " array([[4.21509616],\n",
       "        [2.77011339]]),\n",
       " array([[4.21509616],\n",
       "        [2.77011339]]),\n",
       " array([[4.21509616],\n",
       "        [2.77011339]]),\n",
       " array([[4.21509616],\n",
       "        [2.77011339]]),\n",
       " array([[4.21509616],\n",
       "        [2.77011339]]),\n",
       " array([[4.21509616],\n",
       "        [2.77011339]]),\n",
       " array([[4.21509616],\n",
       "        [2.77011339]]),\n",
       " array([[4.21509616],\n",
       "        [2.77011339]]),\n",
       " array([[4.21509616],\n",
       "        [2.77011339]]),\n",
       " array([[4.21509616],\n",
       "        [2.77011339]]),\n",
       " array([[4.21509616],\n",
       "        [2.77011339]]),\n",
       " array([[4.21509616],\n",
       "        [2.77011339]]),\n",
       " array([[4.21509616],\n",
       "        [2.77011339]]),\n",
       " array([[4.21509616],\n",
       "        [2.77011339]]),\n",
       " array([[4.21509616],\n",
       "        [2.77011339]]),\n",
       " array([[4.21509616],\n",
       "        [2.77011339]]),\n",
       " array([[4.21509616],\n",
       "        [2.77011339]]),\n",
       " array([[4.21509616],\n",
       "        [2.77011339]]),\n",
       " array([[4.21509616],\n",
       "        [2.77011339]]),\n",
       " array([[4.21509616],\n",
       "        [2.77011339]]),\n",
       " array([[4.21509616],\n",
       "        [2.77011339]]),\n",
       " array([[4.21509616],\n",
       "        [2.77011339]]),\n",
       " array([[4.21509616],\n",
       "        [2.77011339]]),\n",
       " array([[4.21509616],\n",
       "        [2.77011339]]),\n",
       " array([[4.21509616],\n",
       "        [2.77011339]]),\n",
       " array([[4.21509616],\n",
       "        [2.77011339]]),\n",
       " array([[4.21509616],\n",
       "        [2.77011339]]),\n",
       " array([[4.21509616],\n",
       "        [2.77011339]]),\n",
       " array([[4.21509616],\n",
       "        [2.77011339]]),\n",
       " array([[4.21509616],\n",
       "        [2.77011339]]),\n",
       " array([[4.21509616],\n",
       "        [2.77011339]]),\n",
       " array([[4.21509616],\n",
       "        [2.77011339]]),\n",
       " array([[4.21509616],\n",
       "        [2.77011339]]),\n",
       " array([[4.21509616],\n",
       "        [2.77011339]]),\n",
       " array([[4.21509616],\n",
       "        [2.77011339]]),\n",
       " array([[4.21509616],\n",
       "        [2.77011339]]),\n",
       " array([[4.21509616],\n",
       "        [2.77011339]]),\n",
       " array([[4.21509616],\n",
       "        [2.77011339]]),\n",
       " array([[4.21509616],\n",
       "        [2.77011339]]),\n",
       " array([[4.21509616],\n",
       "        [2.77011339]]),\n",
       " array([[4.21509616],\n",
       "        [2.77011339]]),\n",
       " array([[4.21509616],\n",
       "        [2.77011339]]),\n",
       " array([[4.21509616],\n",
       "        [2.77011339]]),\n",
       " array([[4.21509616],\n",
       "        [2.77011339]]),\n",
       " array([[4.21509616],\n",
       "        [2.77011339]]),\n",
       " array([[4.21509616],\n",
       "        [2.77011339]]),\n",
       " array([[4.21509616],\n",
       "        [2.77011339]]),\n",
       " array([[4.21509616],\n",
       "        [2.77011339]]),\n",
       " array([[4.21509616],\n",
       "        [2.77011339]]),\n",
       " array([[4.21509616],\n",
       "        [2.77011339]]),\n",
       " array([[4.21509616],\n",
       "        [2.77011339]]),\n",
       " array([[4.21509616],\n",
       "        [2.77011339]]),\n",
       " array([[4.21509616],\n",
       "        [2.77011339]]),\n",
       " array([[4.21509616],\n",
       "        [2.77011339]]),\n",
       " array([[4.21509616],\n",
       "        [2.77011339]]),\n",
       " array([[4.21509616],\n",
       "        [2.77011339]]),\n",
       " array([[4.21509616],\n",
       "        [2.77011339]]),\n",
       " array([[4.21509616],\n",
       "        [2.77011339]]),\n",
       " array([[4.21509616],\n",
       "        [2.77011339]]),\n",
       " array([[4.21509616],\n",
       "        [2.77011339]]),\n",
       " array([[4.21509616],\n",
       "        [2.77011339]]),\n",
       " array([[4.21509616],\n",
       "        [2.77011339]]),\n",
       " array([[4.21509616],\n",
       "        [2.77011339]]),\n",
       " array([[4.21509616],\n",
       "        [2.77011339]]),\n",
       " array([[4.21509616],\n",
       "        [2.77011339]]),\n",
       " array([[4.21509616],\n",
       "        [2.77011339]]),\n",
       " array([[4.21509616],\n",
       "        [2.77011339]]),\n",
       " array([[4.21509616],\n",
       "        [2.77011339]]),\n",
       " array([[4.21509616],\n",
       "        [2.77011339]]),\n",
       " array([[4.21509616],\n",
       "        [2.77011339]]),\n",
       " array([[4.21509616],\n",
       "        [2.77011339]]),\n",
       " array([[4.21509616],\n",
       "        [2.77011339]]),\n",
       " array([[4.21509616],\n",
       "        [2.77011339]]),\n",
       " array([[4.21509616],\n",
       "        [2.77011339]]),\n",
       " array([[4.21509616],\n",
       "        [2.77011339]]),\n",
       " array([[4.21509616],\n",
       "        [2.77011339]]),\n",
       " array([[4.21509616],\n",
       "        [2.77011339]]),\n",
       " array([[4.21509616],\n",
       "        [2.77011339]]),\n",
       " array([[4.21509616],\n",
       "        [2.77011339]]),\n",
       " array([[4.21509616],\n",
       "        [2.77011339]]),\n",
       " array([[4.21509616],\n",
       "        [2.77011339]]),\n",
       " array([[4.21509616],\n",
       "        [2.77011339]]),\n",
       " array([[4.21509616],\n",
       "        [2.77011339]]),\n",
       " array([[4.21509616],\n",
       "        [2.77011339]]),\n",
       " array([[4.21509616],\n",
       "        [2.77011339]]),\n",
       " array([[4.21509616],\n",
       "        [2.77011339]]),\n",
       " array([[4.21509616],\n",
       "        [2.77011339]]),\n",
       " array([[4.21509616],\n",
       "        [2.77011339]]),\n",
       " array([[4.21509616],\n",
       "        [2.77011339]]),\n",
       " array([[4.21509616],\n",
       "        [2.77011339]]),\n",
       " array([[4.21509616],\n",
       "        [2.77011339]]),\n",
       " array([[4.21509616],\n",
       "        [2.77011339]]),\n",
       " array([[4.21509616],\n",
       "        [2.77011339]]),\n",
       " array([[4.21509616],\n",
       "        [2.77011339]]),\n",
       " array([[4.21509616],\n",
       "        [2.77011339]]),\n",
       " array([[4.21509616],\n",
       "        [2.77011339]]),\n",
       " array([[4.21509616],\n",
       "        [2.77011339]]),\n",
       " array([[4.21509616],\n",
       "        [2.77011339]]),\n",
       " array([[4.21509616],\n",
       "        [2.77011339]]),\n",
       " array([[4.21509616],\n",
       "        [2.77011339]]),\n",
       " array([[4.21509616],\n",
       "        [2.77011339]]),\n",
       " array([[4.21509616],\n",
       "        [2.77011339]]),\n",
       " array([[4.21509616],\n",
       "        [2.77011339]]),\n",
       " array([[4.21509616],\n",
       "        [2.77011339]]),\n",
       " array([[4.21509616],\n",
       "        [2.77011339]]),\n",
       " array([[4.21509616],\n",
       "        [2.77011339]]),\n",
       " array([[4.21509616],\n",
       "        [2.77011339]]),\n",
       " array([[4.21509616],\n",
       "        [2.77011339]]),\n",
       " array([[4.21509616],\n",
       "        [2.77011339]]),\n",
       " array([[4.21509616],\n",
       "        [2.77011339]]),\n",
       " array([[4.21509616],\n",
       "        [2.77011339]]),\n",
       " array([[4.21509616],\n",
       "        [2.77011339]]),\n",
       " array([[4.21509616],\n",
       "        [2.77011339]]),\n",
       " array([[4.21509616],\n",
       "        [2.77011339]]),\n",
       " array([[4.21509616],\n",
       "        [2.77011339]]),\n",
       " array([[4.21509616],\n",
       "        [2.77011339]]),\n",
       " array([[4.21509616],\n",
       "        [2.77011339]]),\n",
       " array([[4.21509616],\n",
       "        [2.77011339]]),\n",
       " array([[4.21509616],\n",
       "        [2.77011339]]),\n",
       " array([[4.21509616],\n",
       "        [2.77011339]]),\n",
       " array([[4.21509616],\n",
       "        [2.77011339]]),\n",
       " array([[4.21509616],\n",
       "        [2.77011339]]),\n",
       " array([[4.21509616],\n",
       "        [2.77011339]]),\n",
       " array([[4.21509616],\n",
       "        [2.77011339]]),\n",
       " array([[4.21509616],\n",
       "        [2.77011339]]),\n",
       " array([[4.21509616],\n",
       "        [2.77011339]]),\n",
       " array([[4.21509616],\n",
       "        [2.77011339]]),\n",
       " array([[4.21509616],\n",
       "        [2.77011339]]),\n",
       " array([[4.21509616],\n",
       "        [2.77011339]]),\n",
       " array([[4.21509616],\n",
       "        [2.77011339]]),\n",
       " array([[4.21509616],\n",
       "        [2.77011339]]),\n",
       " array([[4.21509616],\n",
       "        [2.77011339]]),\n",
       " array([[4.21509616],\n",
       "        [2.77011339]]),\n",
       " array([[4.21509616],\n",
       "        [2.77011339]]),\n",
       " array([[4.21509616],\n",
       "        [2.77011339]]),\n",
       " array([[4.21509616],\n",
       "        [2.77011339]]),\n",
       " array([[4.21509616],\n",
       "        [2.77011339]]),\n",
       " array([[4.21509616],\n",
       "        [2.77011339]]),\n",
       " array([[4.21509616],\n",
       "        [2.77011339]]),\n",
       " array([[4.21509616],\n",
       "        [2.77011339]]),\n",
       " array([[4.21509616],\n",
       "        [2.77011339]]),\n",
       " array([[4.21509616],\n",
       "        [2.77011339]]),\n",
       " array([[4.21509616],\n",
       "        [2.77011339]]),\n",
       " array([[4.21509616],\n",
       "        [2.77011339]]),\n",
       " array([[4.21509616],\n",
       "        [2.77011339]]),\n",
       " array([[4.21509616],\n",
       "        [2.77011339]]),\n",
       " array([[4.21509616],\n",
       "        [2.77011339]]),\n",
       " array([[4.21509616],\n",
       "        [2.77011339]]),\n",
       " array([[4.21509616],\n",
       "        [2.77011339]]),\n",
       " array([[4.21509616],\n",
       "        [2.77011339]]),\n",
       " array([[4.21509616],\n",
       "        [2.77011339]]),\n",
       " array([[4.21509616],\n",
       "        [2.77011339]]),\n",
       " array([[4.21509616],\n",
       "        [2.77011339]]),\n",
       " array([[4.21509616],\n",
       "        [2.77011339]]),\n",
       " array([[4.21509616],\n",
       "        [2.77011339]]),\n",
       " array([[4.21509616],\n",
       "        [2.77011339]]),\n",
       " array([[4.21509616],\n",
       "        [2.77011339]]),\n",
       " array([[4.21509616],\n",
       "        [2.77011339]]),\n",
       " array([[4.21509616],\n",
       "        [2.77011339]]),\n",
       " array([[4.21509616],\n",
       "        [2.77011339]]),\n",
       " array([[4.21509616],\n",
       "        [2.77011339]]),\n",
       " array([[4.21509616],\n",
       "        [2.77011339]]),\n",
       " array([[4.21509616],\n",
       "        [2.77011339]]),\n",
       " array([[4.21509616],\n",
       "        [2.77011339]]),\n",
       " array([[4.21509616],\n",
       "        [2.77011339]]),\n",
       " array([[4.21509616],\n",
       "        [2.77011339]]),\n",
       " array([[4.21509616],\n",
       "        [2.77011339]]),\n",
       " array([[4.21509616],\n",
       "        [2.77011339]]),\n",
       " array([[4.21509616],\n",
       "        [2.77011339]]),\n",
       " array([[4.21509616],\n",
       "        [2.77011339]]),\n",
       " array([[4.21509616],\n",
       "        [2.77011339]]),\n",
       " array([[4.21509616],\n",
       "        [2.77011339]]),\n",
       " array([[4.21509616],\n",
       "        [2.77011339]]),\n",
       " array([[4.21509616],\n",
       "        [2.77011339]]),\n",
       " array([[4.21509616],\n",
       "        [2.77011339]]),\n",
       " array([[4.21509616],\n",
       "        [2.77011339]]),\n",
       " array([[4.21509616],\n",
       "        [2.77011339]]),\n",
       " array([[4.21509616],\n",
       "        [2.77011339]]),\n",
       " array([[4.21509616],\n",
       "        [2.77011339]]),\n",
       " array([[4.21509616],\n",
       "        [2.77011339]]),\n",
       " array([[4.21509616],\n",
       "        [2.77011339]]),\n",
       " array([[4.21509616],\n",
       "        [2.77011339]]),\n",
       " array([[4.21509616],\n",
       "        [2.77011339]]),\n",
       " array([[4.21509616],\n",
       "        [2.77011339]]),\n",
       " array([[4.21509616],\n",
       "        [2.77011339]]),\n",
       " array([[4.21509616],\n",
       "        [2.77011339]]),\n",
       " array([[4.21509616],\n",
       "        [2.77011339]]),\n",
       " array([[4.21509616],\n",
       "        [2.77011339]]),\n",
       " array([[4.21509616],\n",
       "        [2.77011339]]),\n",
       " array([[4.21509616],\n",
       "        [2.77011339]]),\n",
       " array([[4.21509616],\n",
       "        [2.77011339]]),\n",
       " array([[4.21509616],\n",
       "        [2.77011339]]),\n",
       " array([[4.21509616],\n",
       "        [2.77011339]]),\n",
       " array([[4.21509616],\n",
       "        [2.77011339]]),\n",
       " array([[4.21509616],\n",
       "        [2.77011339]]),\n",
       " array([[4.21509616],\n",
       "        [2.77011339]]),\n",
       " array([[4.21509616],\n",
       "        [2.77011339]]),\n",
       " array([[4.21509616],\n",
       "        [2.77011339]]),\n",
       " array([[4.21509616],\n",
       "        [2.77011339]]),\n",
       " array([[4.21509616],\n",
       "        [2.77011339]]),\n",
       " array([[4.21509616],\n",
       "        [2.77011339]]),\n",
       " array([[4.21509616],\n",
       "        [2.77011339]]),\n",
       " array([[4.21509616],\n",
       "        [2.77011339]]),\n",
       " array([[4.21509616],\n",
       "        [2.77011339]]),\n",
       " array([[4.21509616],\n",
       "        [2.77011339]]),\n",
       " array([[4.21509616],\n",
       "        [2.77011339]]),\n",
       " array([[4.21509616],\n",
       "        [2.77011339]]),\n",
       " array([[4.21509616],\n",
       "        [2.77011339]]),\n",
       " array([[4.21509616],\n",
       "        [2.77011339]]),\n",
       " array([[4.21509616],\n",
       "        [2.77011339]]),\n",
       " array([[4.21509616],\n",
       "        [2.77011339]]),\n",
       " array([[4.21509616],\n",
       "        [2.77011339]]),\n",
       " array([[4.21509616],\n",
       "        [2.77011339]]),\n",
       " array([[4.21509616],\n",
       "        [2.77011339]]),\n",
       " array([[4.21509616],\n",
       "        [2.77011339]]),\n",
       " array([[4.21509616],\n",
       "        [2.77011339]]),\n",
       " array([[4.21509616],\n",
       "        [2.77011339]]),\n",
       " array([[4.21509616],\n",
       "        [2.77011339]]),\n",
       " array([[4.21509616],\n",
       "        [2.77011339]]),\n",
       " array([[4.21509616],\n",
       "        [2.77011339]]),\n",
       " array([[4.21509616],\n",
       "        [2.77011339]]),\n",
       " array([[4.21509616],\n",
       "        [2.77011339]]),\n",
       " array([[4.21509616],\n",
       "        [2.77011339]]),\n",
       " array([[4.21509616],\n",
       "        [2.77011339]]),\n",
       " array([[4.21509616],\n",
       "        [2.77011339]]),\n",
       " array([[4.21509616],\n",
       "        [2.77011339]]),\n",
       " array([[4.21509616],\n",
       "        [2.77011339]]),\n",
       " array([[4.21509616],\n",
       "        [2.77011339]]),\n",
       " array([[4.21509616],\n",
       "        [2.77011339]]),\n",
       " array([[4.21509616],\n",
       "        [2.77011339]]),\n",
       " array([[4.21509616],\n",
       "        [2.77011339]]),\n",
       " array([[4.21509616],\n",
       "        [2.77011339]]),\n",
       " array([[4.21509616],\n",
       "        [2.77011339]]),\n",
       " array([[4.21509616],\n",
       "        [2.77011339]]),\n",
       " array([[4.21509616],\n",
       "        [2.77011339]]),\n",
       " array([[4.21509616],\n",
       "        [2.77011339]]),\n",
       " array([[4.21509616],\n",
       "        [2.77011339]]),\n",
       " array([[4.21509616],\n",
       "        [2.77011339]]),\n",
       " array([[4.21509616],\n",
       "        [2.77011339]]),\n",
       " array([[4.21509616],\n",
       "        [2.77011339]]),\n",
       " array([[4.21509616],\n",
       "        [2.77011339]]),\n",
       " array([[4.21509616],\n",
       "        [2.77011339]]),\n",
       " array([[4.21509616],\n",
       "        [2.77011339]]),\n",
       " array([[4.21509616],\n",
       "        [2.77011339]]),\n",
       " array([[4.21509616],\n",
       "        [2.77011339]]),\n",
       " array([[4.21509616],\n",
       "        [2.77011339]]),\n",
       " array([[4.21509616],\n",
       "        [2.77011339]]),\n",
       " array([[4.21509616],\n",
       "        [2.77011339]]),\n",
       " array([[4.21509616],\n",
       "        [2.77011339]]),\n",
       " array([[4.21509616],\n",
       "        [2.77011339]]),\n",
       " array([[4.21509616],\n",
       "        [2.77011339]]),\n",
       " array([[4.21509616],\n",
       "        [2.77011339]]),\n",
       " array([[4.21509616],\n",
       "        [2.77011339]]),\n",
       " array([[4.21509616],\n",
       "        [2.77011339]]),\n",
       " array([[4.21509616],\n",
       "        [2.77011339]]),\n",
       " array([[4.21509616],\n",
       "        [2.77011339]]),\n",
       " array([[4.21509616],\n",
       "        [2.77011339]]),\n",
       " array([[4.21509616],\n",
       "        [2.77011339]]),\n",
       " array([[4.21509616],\n",
       "        [2.77011339]]),\n",
       " array([[4.21509616],\n",
       "        [2.77011339]]),\n",
       " array([[4.21509616],\n",
       "        [2.77011339]]),\n",
       " array([[4.21509616],\n",
       "        [2.77011339]]),\n",
       " array([[4.21509616],\n",
       "        [2.77011339]]),\n",
       " array([[4.21509616],\n",
       "        [2.77011339]]),\n",
       " array([[4.21509616],\n",
       "        [2.77011339]]),\n",
       " array([[4.21509616],\n",
       "        [2.77011339]]),\n",
       " array([[4.21509616],\n",
       "        [2.77011339]]),\n",
       " array([[4.21509616],\n",
       "        [2.77011339]]),\n",
       " array([[4.21509616],\n",
       "        [2.77011339]]),\n",
       " array([[4.21509616],\n",
       "        [2.77011339]]),\n",
       " array([[4.21509616],\n",
       "        [2.77011339]]),\n",
       " array([[4.21509616],\n",
       "        [2.77011339]]),\n",
       " array([[4.21509616],\n",
       "        [2.77011339]]),\n",
       " array([[4.21509616],\n",
       "        [2.77011339]]),\n",
       " array([[4.21509616],\n",
       "        [2.77011339]]),\n",
       " array([[4.21509616],\n",
       "        [2.77011339]]),\n",
       " array([[4.21509616],\n",
       "        [2.77011339]]),\n",
       " array([[4.21509616],\n",
       "        [2.77011339]]),\n",
       " array([[4.21509616],\n",
       "        [2.77011339]]),\n",
       " array([[4.21509616],\n",
       "        [2.77011339]]),\n",
       " array([[4.21509616],\n",
       "        [2.77011339]]),\n",
       " array([[4.21509616],\n",
       "        [2.77011339]]),\n",
       " array([[4.21509616],\n",
       "        [2.77011339]]),\n",
       " array([[4.21509616],\n",
       "        [2.77011339]]),\n",
       " array([[4.21509616],\n",
       "        [2.77011339]]),\n",
       " array([[4.21509616],\n",
       "        [2.77011339]]),\n",
       " array([[4.21509616],\n",
       "        [2.77011339]]),\n",
       " array([[4.21509616],\n",
       "        [2.77011339]]),\n",
       " array([[4.21509616],\n",
       "        [2.77011339]]),\n",
       " array([[4.21509616],\n",
       "        [2.77011339]]),\n",
       " array([[4.21509616],\n",
       "        [2.77011339]]),\n",
       " array([[4.21509616],\n",
       "        [2.77011339]]),\n",
       " array([[4.21509616],\n",
       "        [2.77011339]]),\n",
       " array([[4.21509616],\n",
       "        [2.77011339]]),\n",
       " array([[4.21509616],\n",
       "        [2.77011339]]),\n",
       " array([[4.21509616],\n",
       "        [2.77011339]]),\n",
       " array([[4.21509616],\n",
       "        [2.77011339]]),\n",
       " array([[4.21509616],\n",
       "        [2.77011339]]),\n",
       " array([[4.21509616],\n",
       "        [2.77011339]]),\n",
       " array([[4.21509616],\n",
       "        [2.77011339]]),\n",
       " array([[4.21509616],\n",
       "        [2.77011339]]),\n",
       " array([[4.21509616],\n",
       "        [2.77011339]]),\n",
       " array([[4.21509616],\n",
       "        [2.77011339]]),\n",
       " array([[4.21509616],\n",
       "        [2.77011339]]),\n",
       " array([[4.21509616],\n",
       "        [2.77011339]]),\n",
       " array([[4.21509616],\n",
       "        [2.77011339]]),\n",
       " array([[4.21509616],\n",
       "        [2.77011339]]),\n",
       " array([[4.21509616],\n",
       "        [2.77011339]]),\n",
       " array([[4.21509616],\n",
       "        [2.77011339]]),\n",
       " array([[4.21509616],\n",
       "        [2.77011339]]),\n",
       " array([[4.21509616],\n",
       "        [2.77011339]]),\n",
       " array([[4.21509616],\n",
       "        [2.77011339]]),\n",
       " array([[4.21509616],\n",
       "        [2.77011339]]),\n",
       " array([[4.21509616],\n",
       "        [2.77011339]]),\n",
       " array([[4.21509616],\n",
       "        [2.77011339]]),\n",
       " array([[4.21509616],\n",
       "        [2.77011339]]),\n",
       " array([[4.21509616],\n",
       "        [2.77011339]]),\n",
       " array([[4.21509616],\n",
       "        [2.77011339]]),\n",
       " array([[4.21509616],\n",
       "        [2.77011339]]),\n",
       " array([[4.21509616],\n",
       "        [2.77011339]]),\n",
       " array([[4.21509616],\n",
       "        [2.77011339]]),\n",
       " array([[4.21509616],\n",
       "        [2.77011339]]),\n",
       " array([[4.21509616],\n",
       "        [2.77011339]]),\n",
       " array([[4.21509616],\n",
       "        [2.77011339]]),\n",
       " array([[4.21509616],\n",
       "        [2.77011339]]),\n",
       " array([[4.21509616],\n",
       "        [2.77011339]]),\n",
       " array([[4.21509616],\n",
       "        [2.77011339]]),\n",
       " array([[4.21509616],\n",
       "        [2.77011339]]),\n",
       " array([[4.21509616],\n",
       "        [2.77011339]]),\n",
       " array([[4.21509616],\n",
       "        [2.77011339]]),\n",
       " array([[4.21509616],\n",
       "        [2.77011339]]),\n",
       " array([[4.21509616],\n",
       "        [2.77011339]]),\n",
       " array([[4.21509616],\n",
       "        [2.77011339]]),\n",
       " array([[4.21509616],\n",
       "        [2.77011339]]),\n",
       " array([[4.21509616],\n",
       "        [2.77011339]]),\n",
       " array([[4.21509616],\n",
       "        [2.77011339]]),\n",
       " array([[4.21509616],\n",
       "        [2.77011339]]),\n",
       " array([[4.21509616],\n",
       "        [2.77011339]]),\n",
       " array([[4.21509616],\n",
       "        [2.77011339]]),\n",
       " array([[4.21509616],\n",
       "        [2.77011339]]),\n",
       " array([[4.21509616],\n",
       "        [2.77011339]]),\n",
       " array([[4.21509616],\n",
       "        [2.77011339]]),\n",
       " array([[4.21509616],\n",
       "        [2.77011339]]),\n",
       " array([[4.21509616],\n",
       "        [2.77011339]]),\n",
       " array([[4.21509616],\n",
       "        [2.77011339]]),\n",
       " array([[4.21509616],\n",
       "        [2.77011339]]),\n",
       " array([[4.21509616],\n",
       "        [2.77011339]]),\n",
       " array([[4.21509616],\n",
       "        [2.77011339]]),\n",
       " array([[4.21509616],\n",
       "        [2.77011339]]),\n",
       " array([[4.21509616],\n",
       "        [2.77011339]]),\n",
       " array([[4.21509616],\n",
       "        [2.77011339]]),\n",
       " array([[4.21509616],\n",
       "        [2.77011339]]),\n",
       " array([[4.21509616],\n",
       "        [2.77011339]]),\n",
       " array([[4.21509616],\n",
       "        [2.77011339]]),\n",
       " array([[4.21509616],\n",
       "        [2.77011339]]),\n",
       " array([[4.21509616],\n",
       "        [2.77011339]]),\n",
       " array([[4.21509616],\n",
       "        [2.77011339]]),\n",
       " array([[4.21509616],\n",
       "        [2.77011339]]),\n",
       " array([[4.21509616],\n",
       "        [2.77011339]]),\n",
       " array([[4.21509616],\n",
       "        [2.77011339]]),\n",
       " array([[4.21509616],\n",
       "        [2.77011339]]),\n",
       " array([[4.21509616],\n",
       "        [2.77011339]]),\n",
       " array([[4.21509616],\n",
       "        [2.77011339]]),\n",
       " array([[4.21509616],\n",
       "        [2.77011339]]),\n",
       " array([[4.21509616],\n",
       "        [2.77011339]]),\n",
       " array([[4.21509616],\n",
       "        [2.77011339]]),\n",
       " array([[4.21509616],\n",
       "        [2.77011339]]),\n",
       " array([[4.21509616],\n",
       "        [2.77011339]]),\n",
       " array([[4.21509616],\n",
       "        [2.77011339]]),\n",
       " array([[4.21509616],\n",
       "        [2.77011339]]),\n",
       " array([[4.21509616],\n",
       "        [2.77011339]]),\n",
       " array([[4.21509616],\n",
       "        [2.77011339]]),\n",
       " array([[4.21509616],\n",
       "        [2.77011339]]),\n",
       " array([[4.21509616],\n",
       "        [2.77011339]]),\n",
       " array([[4.21509616],\n",
       "        [2.77011339]]),\n",
       " array([[4.21509616],\n",
       "        [2.77011339]]),\n",
       " array([[4.21509616],\n",
       "        [2.77011339]]),\n",
       " array([[4.21509616],\n",
       "        [2.77011339]]),\n",
       " array([[4.21509616],\n",
       "        [2.77011339]]),\n",
       " array([[4.21509616],\n",
       "        [2.77011339]]),\n",
       " array([[4.21509616],\n",
       "        [2.77011339]]),\n",
       " array([[4.21509616],\n",
       "        [2.77011339]]),\n",
       " array([[4.21509616],\n",
       "        [2.77011339]]),\n",
       " array([[4.21509616],\n",
       "        [2.77011339]]),\n",
       " array([[4.21509616],\n",
       "        [2.77011339]]),\n",
       " array([[4.21509616],\n",
       "        [2.77011339]]),\n",
       " array([[4.21509616],\n",
       "        [2.77011339]]),\n",
       " array([[4.21509616],\n",
       "        [2.77011339]]),\n",
       " array([[4.21509616],\n",
       "        [2.77011339]]),\n",
       " array([[4.21509616],\n",
       "        [2.77011339]]),\n",
       " array([[4.21509616],\n",
       "        [2.77011339]]),\n",
       " array([[4.21509616],\n",
       "        [2.77011339]]),\n",
       " array([[4.21509616],\n",
       "        [2.77011339]]),\n",
       " array([[4.21509616],\n",
       "        [2.77011339]]),\n",
       " array([[4.21509616],\n",
       "        [2.77011339]]),\n",
       " array([[4.21509616],\n",
       "        [2.77011339]]),\n",
       " array([[4.21509616],\n",
       "        [2.77011339]]),\n",
       " array([[4.21509616],\n",
       "        [2.77011339]]),\n",
       " array([[4.21509616],\n",
       "        [2.77011339]]),\n",
       " array([[4.21509616],\n",
       "        [2.77011339]]),\n",
       " array([[4.21509616],\n",
       "        [2.77011339]]),\n",
       " array([[4.21509616],\n",
       "        [2.77011339]]),\n",
       " array([[4.21509616],\n",
       "        [2.77011339]]),\n",
       " array([[4.21509616],\n",
       "        [2.77011339]]),\n",
       " array([[4.21509616],\n",
       "        [2.77011339]]),\n",
       " array([[4.21509616],\n",
       "        [2.77011339]]),\n",
       " array([[4.21509616],\n",
       "        [2.77011339]]),\n",
       " array([[4.21509616],\n",
       "        [2.77011339]]),\n",
       " array([[4.21509616],\n",
       "        [2.77011339]]),\n",
       " array([[4.21509616],\n",
       "        [2.77011339]]),\n",
       " array([[4.21509616],\n",
       "        [2.77011339]]),\n",
       " array([[4.21509616],\n",
       "        [2.77011339]])]"
      ]
     },
     "execution_count": 30,
     "metadata": {},
     "output_type": "execute_result"
    }
   ],
   "source": [
    "theta_path_bgd"
   ]
  },
  {
   "cell_type": "markdown",
   "metadata": {},
   "source": [
    "## 随机梯度"
   ]
  },
  {
   "cell_type": "code",
   "execution_count": 31,
   "metadata": {},
   "outputs": [],
   "source": [
    "theta_path_sgd = []\n",
    "m = len(X_b)\n",
    "np.random.seed(42)"
   ]
  },
  {
   "cell_type": "code",
   "execution_count": 32,
   "metadata": {},
   "outputs": [
    {
     "name": "stdout",
     "output_type": "stream",
     "text": [
      "Saving figure sgd_plot\n"
     ]
    },
    {
     "data": {
      "image/png": "[encoded data removed]",
      "text/plain": [
       "<Figure size 432x288 with 1 Axes>"
      ]
     },
     "metadata": {
      "needs_background": "light"
     },
     "output_type": "display_data"
    }
   ],
   "source": [
    "n_epochs = 50\n",
    "t0, t1 = 5, 50  # learning schedule hyperparameters\n",
    "\n",
    "# 学习率随时间变化，模拟退火\n",
    "def learning_schedule(t):\n",
    "    return t0 / (t + t1)\n",
    "\n",
    "theta = np.random.randn(2,1)  # random initialization\n",
    "\n",
    "for epoch in range(n_epochs):\n",
    "    for i in range(m):\n",
    "        if epoch == 0 and i < 20:                    # not shown in the book\n",
    "            y_predict = X_new_b.dot(theta)           # not shown\n",
    "            style = \"b-\" if i > 0 else \"r--\"         # not shown\n",
    "            plt.plot(X_new, y_predict, style)        # not shown\n",
    "        random_index = np.random.randint(m)\n",
    "        xi = X_b[random_index:random_index+1]\n",
    "        yi = y[random_index:random_index+1]\n",
    "        gradients = 2 * xi.T.dot(xi.dot(theta) - yi)\n",
    "        eta = learning_schedule(epoch * m + i)\n",
    "        theta = theta - eta * gradients\n",
    "        theta_path_sgd.append(theta)                 # not shown\n",
    "\n",
    "plt.plot(X, y, \"b.\")                                 # not shown\n",
    "plt.xlabel(\"$x_1$\", fontsize=18)                     # not shown\n",
    "plt.ylabel(\"$y$\", rotation=0, fontsize=18)           # not shown\n",
    "plt.axis([0, 2, 0, 15])                              # not shown\n",
    "save_fig(\"sgd_plot\")                                 # not shown\n",
    "plt.show()                                           # not shown"
   ]
  },
  {
   "cell_type": "code",
   "execution_count": 33,
   "metadata": {},
   "outputs": [
    {
     "data": {
      "text/plain": [
       "array([[4.21076011],\n",
       "       [2.74856079]])"
      ]
     },
     "execution_count": 33,
     "metadata": {},
     "output_type": "execute_result"
    }
   ],
   "source": [
    "theta"
   ]
  },
  {
   "cell_type": "code",
   "execution_count": 38,
   "metadata": {},
   "outputs": [
    {
     "data": {
      "text/plain": [
       "SGDRegressor(alpha=0.0001, average=False, early_stopping=False, epsilon=0.1,\n",
       "             eta0=0.1, fit_intercept=True, l1_ratio=0.15,\n",
       "             learning_rate='invscaling', loss='squared_loss', max_iter=100,\n",
       "             n_iter_no_change=5, penalty=None, power_t=0.25, random_state=42,\n",
       "             shuffle=True, tol=0.001, validation_fraction=0.1, verbose=0,\n",
       "             warm_start=False)"
      ]
     },
     "execution_count": 38,
     "metadata": {},
     "output_type": "execute_result"
    }
   ],
   "source": [
    "from sklearn.linear_model import SGDRegressor\n",
    "\n",
    "sgd_reg = SGDRegressor(max_iter=100, tol=1e-3, penalty=None, eta0=0.1, random_state=42)\n",
    "sgd_reg.fit(X, y.ravel())"
   ]
  },
  {
   "cell_type": "code",
   "execution_count": 39,
   "metadata": {},
   "outputs": [
    {
     "data": {
      "text/plain": [
       "(array([4.24365286]), array([2.8250878]))"
      ]
     },
     "execution_count": 39,
     "metadata": {},
     "output_type": "execute_result"
    }
   ],
   "source": [
    "sgd_reg.intercept_, sgd_reg.coef_"
   ]
  },
  {
   "cell_type": "markdown",
   "metadata": {},
   "source": [
    "## 小批量梯度"
   ]
  },
  {
   "cell_type": "code",
   "execution_count": 44,
   "metadata": {},
   "outputs": [],
   "source": [
    "theta_path_mgd = []\n",
    "\n",
    "n_iterations = 50\n",
    "minibatch_size = 20\n",
    "\n",
    "np.random.seed(42)\n",
    "theta = np.random.randn(2,1)  # random initialization\n",
    "\n",
    "t0, t1 = 200, 1000\n",
    "\n",
    "# 学习率随时间变化\n",
    "def learning_schedule(t):\n",
    "    return t0 / (t + t1)\n",
    "\n",
    "t = 0\n",
    "for epoch in range(n_iterations):\n",
    "    shuffled_indices = np.random.permutation(m)\n",
    "    X_b_shuffled = X_b[shuffled_indices]\n",
    "    y_shuffled = y[shuffled_indices]\n",
    "    for i in range(0, m, minibatch_size):\n",
    "        t += 1\n",
    "        xi = X_b_shuffled[i:i+minibatch_size]\n",
    "        yi = y_shuffled[i:i+minibatch_size]\n",
    "        gradients = 2/minibatch_size * xi.T.dot(xi.dot(theta) - yi)\n",
    "        eta = learning_schedule(t)\n",
    "        theta = theta - eta * gradients\n",
    "        theta_path_mgd.append(theta)"
   ]
  },
  {
   "cell_type": "code",
   "execution_count": 45,
   "metadata": {},
   "outputs": [
    {
     "data": {
      "text/plain": [
       "array([[4.25214635],\n",
       "       [2.7896408 ]])"
      ]
     },
     "execution_count": 45,
     "metadata": {},
     "output_type": "execute_result"
    }
   ],
   "source": [
    "theta"
   ]
  },
  {
   "cell_type": "code",
   "execution_count": 46,
   "metadata": {},
   "outputs": [],
   "source": [
    "theta_path_bgd = np.array(theta_path_bgd)\n",
    "theta_path_sgd = np.array(theta_path_sgd)\n",
    "theta_path_mgd = np.array(theta_path_mgd)"
   ]
  },
  {
   "cell_type": "code",
   "execution_count": 47,
   "metadata": {},
   "outputs": [
    {
     "name": "stdout",
     "output_type": "stream",
     "text": [
      "Saving figure gradient_descent_paths_plot\n"
     ]
    },
    {
     "data": {
      "image/png": "[encoded data removed]",
      "text/plain": [
       "<Figure size 504x288 with 1 Axes>"
      ]
     },
     "metadata": {
      "needs_background": "light"
     },
     "output_type": "display_data"
    }
   ],
   "source": [
    "plt.figure(figsize=(7,4))\n",
    "plt.plot(theta_path_sgd[:, 0], theta_path_sgd[:, 1], \"r-s\", linewidth=1, label=\"Stochastic\")\n",
    "plt.plot(theta_path_mgd[:, 0], theta_path_mgd[:, 1], \"g-+\", linewidth=2, label=\"Mini-batch\")\n",
    "plt.plot(theta_path_bgd[:, 0], theta_path_bgd[:, 1], \"b-o\", linewidth=3, label=\"Batch\")\n",
    "plt.legend(loc=\"upper left\", fontsize=16)\n",
    "plt.xlabel(r\"$\\theta_0$\", fontsize=20)\n",
    "plt.ylabel(r\"$\\theta_1$   \", fontsize=20, rotation=0)\n",
    "plt.axis([2.5, 4.5, 2.3, 3.9])\n",
    "save_fig(\"gradient_descent_paths_plot\")\n",
    "plt.show()"
   ]
  },
  {
   "cell_type": "markdown",
   "metadata": {},
   "source": [
    "# 多项式回归"
   ]
  },
  {
   "cell_type": "code",
   "execution_count": 48,
   "metadata": {},
   "outputs": [],
   "source": [
    "import numpy as np\n",
    "import numpy.random as rnd\n",
    "\n",
    "np.random.seed(42)"
   ]
  },
  {
   "cell_type": "code",
   "execution_count": 49,
   "metadata": {},
   "outputs": [],
   "source": [
    "m = 100\n",
    "X = 6 * np.random.rand(m, 1) - 3\n",
    "y = 0.5 * X**2 + X + 2 + np.random.randn(m, 1)"
   ]
  },
  {
   "cell_type": "code",
   "execution_count": 50,
   "metadata": {},
   "outputs": [
    {
     "name": "stdout",
     "output_type": "stream",
     "text": [
      "Saving figure quadratic_data_plot\n"
     ]
    },
    {
     "data": {
      "image/png": "[encoded data removed]",
      "text/plain": [
       "<Figure size 432x288 with 1 Axes>"
      ]
     },
     "metadata": {
      "needs_background": "light"
     },
     "output_type": "display_data"
    }
   ],
   "source": [
    "plt.plot(X, y, \"b.\")\n",
    "plt.xlabel(\"$x_1$\", fontsize=18)\n",
    "plt.ylabel(\"$y$\", rotation=0, fontsize=18)\n",
    "plt.axis([-3, 3, 0, 10])\n",
    "save_fig(\"quadratic_data_plot\")\n",
    "plt.show()"
   ]
  },
  {
   "cell_type": "code",
   "execution_count": 55,
   "metadata": {},
   "outputs": [
    {
     "data": {
      "text/plain": [
       "array([-0.75275929])"
      ]
     },
     "execution_count": 55,
     "metadata": {},
     "output_type": "execute_result"
    }
   ],
   "source": [
    "from sklearn.preprocessing import PolynomialFeatures\n",
    "poly_features = PolynomialFeatures(degree=3, include_bias=False)\n",
    "X_poly = poly_features.fit_transform(X)\n",
    "X[0]"
   ]
  },
  {
   "cell_type": "code",
   "execution_count": 56,
   "metadata": {},
   "outputs": [
    {
     "data": {
      "text/plain": [
       "array([-0.75275929,  0.56664654, -0.42654845])"
      ]
     },
     "execution_count": 56,
     "metadata": {},
     "output_type": "execute_result"
    }
   ],
   "source": [
    "X_poly[0]"
   ]
  },
  {
   "cell_type": "code",
   "execution_count": 57,
   "metadata": {},
   "outputs": [
    {
     "data": {
      "text/plain": [
       "(array([1.78437842]), array([[ 1.02570217,  0.56304305, -0.01702965]]))"
      ]
     },
     "execution_count": 57,
     "metadata": {},
     "output_type": "execute_result"
    }
   ],
   "source": [
    "lin_reg = LinearRegression()\n",
    "lin_reg.fit(X_poly, y)\n",
    "lin_reg.intercept_, lin_reg.coef_"
   ]
  },
  {
   "cell_type": "code",
   "execution_count": 58,
   "metadata": {},
   "outputs": [
    {
     "name": "stdout",
     "output_type": "stream",
     "text": [
      "Saving figure quadratic_predictions_plot\n"
     ]
    },
    {
     "data": {
      "image/png": "[encoded data removed]",
      "text/plain": [
       "<Figure size 432x288 with 1 Axes>"
      ]
     },
     "metadata": {
      "needs_background": "light"
     },
     "output_type": "display_data"
    }
   ],
   "source": [
    "X_new=np.linspace(-3, 3, 100).reshape(100, 1)\n",
    "X_new_poly = poly_features.transform(X_new)\n",
    "y_new = lin_reg.predict(X_new_poly)\n",
    "plt.plot(X, y, \"b.\")\n",
    "plt.plot(X_new, y_new, \"r-\", linewidth=2, label=\"Predictions\")\n",
    "plt.xlabel(\"$x_1$\", fontsize=18)\n",
    "plt.ylabel(\"$y$\", rotation=0, fontsize=18)\n",
    "plt.legend(loc=\"upper left\", fontsize=14)\n",
    "plt.axis([-3, 3, 0, 10])\n",
    "save_fig(\"quadratic_predictions_plot\")\n",
    "plt.show()"
   ]
  },
  {
   "cell_type": "code",
   "execution_count": 62,
   "metadata": {},
   "outputs": [
    {
     "name": "stdout",
     "output_type": "stream",
     "text": [
      "Saving figure high_degree_polynomials_plot\n"
     ]
    },
    {
     "data": {
      "image/png": "[encoded data removed]",
      "text/plain": [
       "<Figure size 432x288 with 1 Axes>"
      ]
     },
     "metadata": {
      "needs_background": "light"
     },
     "output_type": "display_data"
    }
   ],
   "source": [
    "from sklearn.preprocessing import StandardScaler\n",
    "from sklearn.pipeline import Pipeline\n",
    "\n",
    "for style, width, degree in ((\"g-\", 1, 50), (\"b--\", 2, 2), (\"r-+\", 2, 1)):\n",
    "    polybig_features = PolynomialFeatures(degree=degree, include_bias=False)\n",
    "    std_scaler = StandardScaler()\n",
    "    lin_reg = LinearRegression()\n",
    "    polynomial_regression = Pipeline([\n",
    "            (\"poly_features\", polybig_features),\n",
    "            (\"std_scaler\", std_scaler),\n",
    "            (\"lin_reg\", lin_reg),\n",
    "        ])\n",
    "    polynomial_regression.fit(X, y)\n",
    "    y_newbig = polynomial_regression.predict(X_new)\n",
    "    plt.plot(X_new, y_newbig, style, label=str(degree), linewidth=width)\n",
    "\n",
    "plt.plot(X, y, \"b.\", linewidth=3)\n",
    "plt.legend(loc=\"upper left\")\n",
    "plt.xlabel(\"$x_1$\", fontsize=18)\n",
    "plt.ylabel(\"$y$\", rotation=0, fontsize=18)\n",
    "plt.axis([-3, 3, 0, 10])\n",
    "save_fig(\"high_degree_polynomials_plot\")\n",
    "plt.show()"
   ]
  },
  {
   "cell_type": "code",
   "execution_count": 63,
   "metadata": {},
   "outputs": [],
   "source": [
    "from sklearn.metrics import mean_squared_error\n",
    "from sklearn.model_selection import train_test_split\n",
    "\n",
    "def plot_learning_curves(model, X, y):\n",
    "    X_train, X_val, y_train, y_val = train_test_split(X, y, test_size=0.2, random_state=10)\n",
    "    train_errors, val_errors = [], []\n",
    "    for m in range(1, len(X_train)):\n",
    "        model.fit(X_train[:m], y_train[:m])\n",
    "        y_train_predict = model.predict(X_train[:m])\n",
    "        y_val_predict = model.predict(X_val)\n",
    "        train_errors.append(mean_squared_error(y_train[:m], y_train_predict))\n",
    "        val_errors.append(mean_squared_error(y_val, y_val_predict))\n",
    "\n",
    "    plt.plot(np.sqrt(train_errors), \"r-+\", linewidth=2, label=\"train\")\n",
    "    plt.plot(np.sqrt(val_errors), \"b-\", linewidth=3, label=\"val\")\n",
    "    plt.legend(loc=\"upper right\", fontsize=14)   # not shown in the book\n",
    "    plt.xlabel(\"Training set size\", fontsize=14) # not shown\n",
    "    plt.ylabel(\"RMSE\", fontsize=14)              # not shown"
   ]
  },
  {
   "cell_type": "code",
   "execution_count": 64,
   "metadata": {},
   "outputs": [
    {
     "name": "stdout",
     "output_type": "stream",
     "text": [
      "Saving figure underfitting_learning_curves_plot\n"
     ]
    },
    {
     "data": {
      "image/png": "[encoded data removed]",
      "text/plain": [
       "<Figure size 432x288 with 1 Axes>"
      ]
     },
     "metadata": {
      "needs_background": "light"
     },
     "output_type": "display_data"
    }
   ],
   "source": [
    "lin_reg = LinearRegression()\n",
    "plot_learning_curves(lin_reg, X, y)\n",
    "plt.axis([0, 80, 0, 3])                         # not shown in the book\n",
    "save_fig(\"underfitting_learning_curves_plot\")   # not shown\n",
    "plt.show()                                      # not shown"
   ]
  },
  {
   "cell_type": "code",
   "execution_count": 65,
   "metadata": {},
   "outputs": [
    {
     "name": "stdout",
     "output_type": "stream",
     "text": [
      "Saving figure learning_curves_plot\n"
     ]
    },
    {
     "data": {
      "image/png": "[encoded data removed]",
      "text/plain": [
       "<Figure size 432x288 with 1 Axes>"
      ]
     },
     "metadata": {
      "needs_background": "light"
     },
     "output_type": "display_data"
    }
   ],
   "source": [
    "from sklearn.pipeline import Pipeline\n",
    "\n",
    "polynomial_regression = Pipeline([\n",
    "        (\"poly_features\", PolynomialFeatures(degree=10, include_bias=False)),\n",
    "        (\"lin_reg\", LinearRegression()),\n",
    "    ])\n",
    "\n",
    "plot_learning_curves(polynomial_regression, X, y)\n",
    "plt.axis([0, 80, 0, 3])           # not shown\n",
    "save_fig(\"learning_curves_plot\")  # not shown\n",
    "plt.show()                        # not shown"
   ]
  },
  {
   "cell_type": "markdown",
   "metadata": {},
   "source": [
    "## 正则化\n",
    "- 正则项使得学习中的算法不仅 需要拟合数据，同时还要让模型权重保持最小\n",
    "- 注意 正则项只能在训练的时候添加到成本函数中，一旦训练完成，你需要使用未经正则化的性能指标来评估模型性能。\n",
    "- 在执行岭回归之前，必须对数据进行缩放(例如使用 StandardScaler)，因为它对输入特征的大小非常敏感。大多数正则化模型都是如此。"
   ]
  },
  {
   "cell_type": "code",
   "execution_count": 66,
   "metadata": {},
   "outputs": [],
   "source": [
    "np.random.seed(42)\n",
    "m = 20\n",
    "X = 3 * np.random.rand(m, 1)\n",
    "y = 1 + 0.5 * X + np.random.randn(m, 1) / 1.5\n",
    "X_new = np.linspace(0, 3, 100).reshape(100, 1)"
   ]
  },
  {
   "cell_type": "code",
   "execution_count": 67,
   "metadata": {},
   "outputs": [
    {
     "data": {
      "text/plain": [
       "array([[1.55071465]])"
      ]
     },
     "execution_count": 67,
     "metadata": {},
     "output_type": "execute_result"
    }
   ],
   "source": [
    "from sklearn.linear_model import Ridge\n",
    "ridge_reg = Ridge(alpha=1, solver=\"cholesky\", random_state=42)\n",
    "ridge_reg.fit(X, y)\n",
    "ridge_reg.predict([[1.5]])"
   ]
  },
  {
   "cell_type": "code",
   "execution_count": 68,
   "metadata": {},
   "outputs": [
    {
     "name": "stdout",
     "output_type": "stream",
     "text": [
      "Saving figure ridge_regression_plot\n"
     ]
    },
    {
     "data": {
      "image/png": "[encoded data removed]",
      "text/plain": [
       "<Figure size 576x288 with 2 Axes>"
      ]
     },
     "metadata": {
      "needs_background": "light"
     },
     "output_type": "display_data"
    }
   ],
   "source": [
    "from sklearn.linear_model import Ridge\n",
    "\n",
    "def plot_model(model_class, polynomial, alphas, **model_kargs):\n",
    "    for alpha, style in zip(alphas, (\"b-\", \"g--\", \"r:\")):\n",
    "        model = model_class(alpha, **model_kargs) if alpha > 0 else LinearRegression()\n",
    "        if polynomial:\n",
    "            model = Pipeline([\n",
    "                    (\"poly_features\", PolynomialFeatures(degree=10, include_bias=False)),\n",
    "                    (\"std_scaler\", StandardScaler()),\n",
    "                    (\"regul_reg\", model),\n",
    "                ])\n",
    "        model.fit(X, y)\n",
    "        y_new_regul = model.predict(X_new)\n",
    "        lw = 2 if alpha > 0 else 1\n",
    "        plt.plot(X_new, y_new_regul, style, linewidth=lw, label=r\"$\\alpha = {}$\".format(alpha))\n",
    "    plt.plot(X, y, \"b.\", linewidth=3)\n",
    "    plt.legend(loc=\"upper left\", fontsize=15)\n",
    "    plt.xlabel(\"$x_1$\", fontsize=18)\n",
    "    plt.axis([0, 3, 0, 4])\n",
    "\n",
    "plt.figure(figsize=(8,4))\n",
    "plt.subplot(121)\n",
    "plot_model(Ridge, polynomial=False, alphas=(0, 10, 100), random_state=42)\n",
    "plt.ylabel(\"$y$\", rotation=0, fontsize=18)\n",
    "plt.subplot(122)\n",
    "plot_model(Ridge, polynomial=True, alphas=(0, 10**-5, 1), random_state=42)\n",
    "\n",
    "save_fig(\"ridge_regression_plot\")\n",
    "plt.show()"
   ]
  },
  {
   "cell_type": "markdown",
   "metadata": {},
   "source": [
    "- Note: to be future-proof, we set max_iter=1000 and tol=1e-3 because these will be the default values in Scikit-Learn 0.21."
   ]
  },
  {
   "cell_type": "code",
   "execution_count": 69,
   "metadata": {},
   "outputs": [
    {
     "data": {
      "text/plain": [
       "array([1.47012588])"
      ]
     },
     "execution_count": 69,
     "metadata": {},
     "output_type": "execute_result"
    }
   ],
   "source": [
    "sgd_reg = SGDRegressor(penalty=\"l2\", max_iter=1000, tol=1e-3, random_state=42)\n",
    "sgd_reg.fit(X, y.ravel())\n",
    "sgd_reg.predict([[1.5]])"
   ]
  },
  {
   "cell_type": "markdown",
   "metadata": {},
   "source": [
    "- Lasso回归的一个重要特点是它倾向于完全消除掉最不重要特征 的权重(也就是将它们设置为零)。换句话说，Lasso回归会自动执行特征选择 并输出一个稀疏模型(即只有很少的特征有非零权重)。"
   ]
  },
  {
   "cell_type": "code",
   "execution_count": 71,
   "metadata": {},
   "outputs": [
    {
     "name": "stderr",
     "output_type": "stream",
     "text": [
      "/Users/gygao/opt/anaconda3/lib/python3.7/site-packages/sklearn/linear_model/_coordinate_descent.py:476: ConvergenceWarning: Objective did not converge. You might want to increase the number of iterations. Duality gap: 2.802867703827432, tolerance: 0.0009294783355207351\n",
      "  positive)\n"
     ]
    },
    {
     "name": "stdout",
     "output_type": "stream",
     "text": [
      "Saving figure lasso_regression_plot\n"
     ]
    },
    {
     "data": {
      "image/png": "[encoded data removed]",
      "text/plain": [
       "<Figure size 576x288 with 2 Axes>"
      ]
     },
     "metadata": {
      "needs_background": "light"
     },
     "output_type": "display_data"
    }
   ],
   "source": [
    "from sklearn.linear_model import Lasso\n",
    "\n",
    "plt.figure(figsize=(8,4))\n",
    "plt.subplot(121)\n",
    "plot_model(Lasso, polynomial=False, alphas=(0, 0.1, 1), random_state=42)\n",
    "plt.ylabel(\"$y$\", rotation=0, fontsize=18)\n",
    "plt.subplot(122)\n",
    "plot_model(Lasso, polynomial=True, alphas=(0, 10**-7, 1), random_state=42)\n",
    "\n",
    "save_fig(\"lasso_regression_plot\")\n",
    "plt.show()"
   ]
  },
  {
   "cell_type": "code",
   "execution_count": 72,
   "metadata": {},
   "outputs": [
    {
     "data": {
      "text/plain": [
       "array([1.53788174])"
      ]
     },
     "execution_count": 72,
     "metadata": {},
     "output_type": "execute_result"
    }
   ],
   "source": [
    "from sklearn.linear_model import Lasso\n",
    "lasso_reg = Lasso(alpha=0.1)\n",
    "lasso_reg.fit(X, y)\n",
    "lasso_reg.predict([[1.5]])"
   ]
  },
  {
   "cell_type": "code",
   "execution_count": 73,
   "metadata": {},
   "outputs": [
    {
     "data": {
      "text/plain": [
       "array([1.54333232])"
      ]
     },
     "execution_count": 73,
     "metadata": {},
     "output_type": "execute_result"
    }
   ],
   "source": [
    "from sklearn.linear_model import ElasticNet\n",
    "elastic_net = ElasticNet(alpha=0.1, l1_ratio=0.5, random_state=42)\n",
    "elastic_net.fit(X, y)\n",
    "elastic_net.predict([[1.5]])"
   ]
  },
  {
   "cell_type": "markdown",
   "metadata": {},
   "source": [
    "- 早期停止法"
   ]
  },
  {
   "cell_type": "code",
   "execution_count": 74,
   "metadata": {},
   "outputs": [],
   "source": [
    "np.random.seed(42)\n",
    "m = 100\n",
    "X = 6 * np.random.rand(m, 1) - 3\n",
    "y = 2 + X + 0.5 * X**2 + np.random.randn(m, 1)\n",
    "\n",
    "X_train, X_val, y_train, y_val = train_test_split(X[:50], y[:50].ravel(), test_size=0.5, random_state=10)"
   ]
  },
  {
   "cell_type": "code",
   "execution_count": 75,
   "metadata": {},
   "outputs": [],
   "source": [
    "from sklearn.base import clone\n",
    "\n",
    "poly_scaler = Pipeline([\n",
    "        (\"poly_features\", PolynomialFeatures(degree=90, include_bias=False)),\n",
    "        (\"std_scaler\", StandardScaler())\n",
    "    ])\n",
    "\n",
    "X_train_poly_scaled = poly_scaler.fit_transform(X_train)\n",
    "X_val_poly_scaled = poly_scaler.transform(X_val)\n",
    "\n",
    "sgd_reg = SGDRegressor(max_iter=1, tol=-np.infty, warm_start=True,\n",
    "                       penalty=None, learning_rate=\"constant\", eta0=0.0005, random_state=42)\n",
    "\n",
    "minimum_val_error = float(\"inf\")\n",
    "best_epoch = None\n",
    "best_model = None\n",
    "for epoch in range(1000):\n",
    "    sgd_reg.fit(X_train_poly_scaled, y_train)  # continues where it left off\n",
    "    y_val_predict = sgd_reg.predict(X_val_poly_scaled)\n",
    "    val_error = mean_squared_error(y_val, y_val_predict)\n",
    "    if val_error < minimum_val_error:\n",
    "        minimum_val_error = val_error\n",
    "        best_epoch = epoch\n",
    "        best_model = clone(sgd_reg)"
   ]
  },
  {
   "cell_type": "code",
   "execution_count": 76,
   "metadata": {},
   "outputs": [
    {
     "name": "stdout",
     "output_type": "stream",
     "text": [
      "Saving figure early_stopping_plot\n"
     ]
    },
    {
     "data": {
      "image/png": "[encoded data removed]",
      "text/plain": [
       "<Figure size 432x288 with 1 Axes>"
      ]
     },
     "metadata": {
      "needs_background": "light"
     },
     "output_type": "display_data"
    }
   ],
   "source": [
    "sgd_reg = SGDRegressor(max_iter=1, tol=-np.infty, warm_start=True,\n",
    "                       penalty=None, learning_rate=\"constant\", eta0=0.0005, random_state=42)\n",
    "\n",
    "n_epochs = 500\n",
    "train_errors, val_errors = [], []\n",
    "for epoch in range(n_epochs):\n",
    "    sgd_reg.fit(X_train_poly_scaled, y_train)\n",
    "    y_train_predict = sgd_reg.predict(X_train_poly_scaled)\n",
    "    y_val_predict = sgd_reg.predict(X_val_poly_scaled)\n",
    "    train_errors.append(mean_squared_error(y_train, y_train_predict))\n",
    "    val_errors.append(mean_squared_error(y_val, y_val_predict))\n",
    "\n",
    "best_epoch = np.argmin(val_errors)\n",
    "best_val_rmse = np.sqrt(val_errors[best_epoch])\n",
    "\n",
    "plt.annotate('Best model',\n",
    "             xy=(best_epoch, best_val_rmse),\n",
    "             xytext=(best_epoch, best_val_rmse + 1),\n",
    "             ha=\"center\",\n",
    "             arrowprops=dict(facecolor='black', shrink=0.05),\n",
    "             fontsize=16,\n",
    "            )\n",
    "\n",
    "best_val_rmse -= 0.03  # just to make the graph look better\n",
    "plt.plot([0, n_epochs], [best_val_rmse, best_val_rmse], \"k:\", linewidth=2)\n",
    "plt.plot(np.sqrt(val_errors), \"b-\", linewidth=3, label=\"Validation set\")\n",
    "plt.plot(np.sqrt(train_errors), \"r--\", linewidth=2, label=\"Training set\")\n",
    "plt.legend(loc=\"upper right\", fontsize=14)\n",
    "plt.xlabel(\"Epoch\", fontsize=14)\n",
    "plt.ylabel(\"RMSE\", fontsize=14)\n",
    "save_fig(\"early_stopping_plot\")\n",
    "plt.show()"
   ]
  },
  {
   "cell_type": "code",
   "execution_count": 77,
   "metadata": {},
   "outputs": [
    {
     "data": {
      "text/plain": [
       "(239,\n",
       " SGDRegressor(alpha=0.0001, average=False, early_stopping=False, epsilon=0.1,\n",
       "              eta0=0.0005, fit_intercept=True, l1_ratio=0.15,\n",
       "              learning_rate='constant', loss='squared_loss', max_iter=1,\n",
       "              n_iter_no_change=5, penalty=None, power_t=0.25, random_state=42,\n",
       "              shuffle=True, tol=-inf, validation_fraction=0.1, verbose=0,\n",
       "              warm_start=True))"
      ]
     },
     "execution_count": 77,
     "metadata": {},
     "output_type": "execute_result"
    }
   ],
   "source": [
    "best_epoch, best_model"
   ]
  },
  {
   "cell_type": "code",
   "execution_count": 78,
   "metadata": {},
   "outputs": [],
   "source": [
    "%matplotlib inline\n",
    "import matplotlib.pyplot as plt\n",
    "import numpy as np"
   ]
  },
  {
   "cell_type": "code",
   "execution_count": 79,
   "metadata": {},
   "outputs": [],
   "source": [
    "t1a, t1b, t2a, t2b = -1, 3, -1.5, 1.5\n",
    "\n",
    "t1s = np.linspace(t1a, t1b, 500)\n",
    "t2s = np.linspace(t2a, t2b, 500)\n",
    "t1, t2 = np.meshgrid(t1s, t2s)\n",
    "T = np.c_[t1.ravel(), t2.ravel()]\n",
    "Xr = np.array([[1, 1], [1, -1], [1, 0.5]])\n",
    "yr = 2 * Xr[:, :1] + 0.5 * Xr[:, 1:]\n",
    "\n",
    "J = (1/len(Xr) * np.sum((T.dot(Xr.T) - yr.T)**2, axis=1)).reshape(t1.shape)\n",
    "\n",
    "N1 = np.linalg.norm(T, ord=1, axis=1).reshape(t1.shape)\n",
    "N2 = np.linalg.norm(T, ord=2, axis=1).reshape(t1.shape)\n",
    "\n",
    "t_min_idx = np.unravel_index(np.argmin(J), J.shape)\n",
    "t1_min, t2_min = t1[t_min_idx], t2[t_min_idx]\n",
    "\n",
    "t_init = np.array([[0.25], [-1]])"
   ]
  },
  {
   "cell_type": "code",
   "execution_count": 80,
   "metadata": {},
   "outputs": [
    {
     "name": "stdout",
     "output_type": "stream",
     "text": [
      "Saving figure lasso_vs_ridge_plot\n"
     ]
    },
    {
     "data": {
      "image/png": "[encoded data removed]",
      "text/plain": [
       "<Figure size 727.2x576 with 4 Axes>"
      ]
     },
     "metadata": {
      "needs_background": "light"
     },
     "output_type": "display_data"
    }
   ],
   "source": [
    "def bgd_path(theta, X, y, l1, l2, core = 1, eta = 0.05, n_iterations = 200):\n",
    "    path = [theta]\n",
    "    for iteration in range(n_iterations):\n",
    "        gradients = core * 2/len(X) * X.T.dot(X.dot(theta) - y) + l1 * np.sign(theta) + l2 * theta\n",
    "        theta = theta - eta * gradients\n",
    "        path.append(theta)\n",
    "    return np.array(path)\n",
    "\n",
    "fig, axes = plt.subplots(2, 2, sharex=True, sharey=True, figsize=(10.1, 8))\n",
    "for i, N, l1, l2, title in ((0, N1, 2., 0, \"Lasso\"), (1, N2, 0,  2., \"Ridge\")):\n",
    "    JR = J + l1 * N1 + l2 * 0.5 * N2**2\n",
    "    \n",
    "    tr_min_idx = np.unravel_index(np.argmin(JR), JR.shape)\n",
    "    t1r_min, t2r_min = t1[tr_min_idx], t2[tr_min_idx]\n",
    "\n",
    "    levelsJ=(np.exp(np.linspace(0, 1, 20)) - 1) * (np.max(J) - np.min(J)) + np.min(J)\n",
    "    levelsJR=(np.exp(np.linspace(0, 1, 20)) - 1) * (np.max(JR) - np.min(JR)) + np.min(JR)\n",
    "    levelsN=np.linspace(0, np.max(N), 10)\n",
    "    \n",
    "    path_J = bgd_path(t_init, Xr, yr, l1=0, l2=0)\n",
    "    path_JR = bgd_path(t_init, Xr, yr, l1, l2)\n",
    "    path_N = bgd_path(np.array([[2.0], [0.5]]), Xr, yr, np.sign(l1)/3, np.sign(l2), core=0)\n",
    "\n",
    "    ax = axes[i, 0]\n",
    "    ax.grid(True)\n",
    "    ax.axhline(y=0, color='k')\n",
    "    ax.axvline(x=0, color='k')\n",
    "    ax.contourf(t1, t2, N / 2., levels=levelsN)\n",
    "    ax.plot(path_N[:, 0], path_N[:, 1], \"y--\")\n",
    "    ax.plot(0, 0, \"ys\")\n",
    "    ax.plot(t1_min, t2_min, \"ys\")\n",
    "    ax.set_title(r\"$\\ell_{}$ penalty\".format(i + 1), fontsize=16)\n",
    "    ax.axis([t1a, t1b, t2a, t2b])\n",
    "    if i == 1:\n",
    "        ax.set_xlabel(r\"$\\theta_1$\", fontsize=16)\n",
    "    ax.set_ylabel(r\"$\\theta_2$\", fontsize=16, rotation=0)\n",
    "\n",
    "    ax = axes[i, 1]\n",
    "    ax.grid(True)\n",
    "    ax.axhline(y=0, color='k')\n",
    "    ax.axvline(x=0, color='k')\n",
    "    ax.contourf(t1, t2, JR, levels=levelsJR, alpha=0.9)\n",
    "    ax.plot(path_JR[:, 0], path_JR[:, 1], \"w-o\")\n",
    "    ax.plot(path_N[:, 0], path_N[:, 1], \"y--\")\n",
    "    ax.plot(0, 0, \"ys\")\n",
    "    ax.plot(t1_min, t2_min, \"ys\")\n",
    "    ax.plot(t1r_min, t2r_min, \"rs\")\n",
    "    ax.set_title(title, fontsize=16)\n",
    "    ax.axis([t1a, t1b, t2a, t2b])\n",
    "    if i == 1:\n",
    "        ax.set_xlabel(r\"$\\theta_1$\", fontsize=16)\n",
    "\n",
    "save_fig(\"lasso_vs_ridge_plot\")\n",
    "plt.show()"
   ]
  },
  {
   "cell_type": "markdown",
   "metadata": {},
   "source": [
    "## Logistic regression"
   ]
  },
  {
   "cell_type": "code",
   "execution_count": 82,
   "metadata": {},
   "outputs": [
    {
     "name": "stdout",
     "output_type": "stream",
     "text": [
      "Saving figure logistic_function_plot\n"
     ]
    },
    {
     "data": {
      "image/png": "[encoded data removed]",
      "text/plain": [
       "<Figure size 648x216 with 1 Axes>"
      ]
     },
     "metadata": {
      "needs_background": "light"
     },
     "output_type": "display_data"
    }
   ],
   "source": [
    "t = np.linspace(-10, 10, 100)\n",
    "sig = 1 / (1 + np.exp(-t))\n",
    "plt.figure(figsize=(9, 3))\n",
    "plt.plot([-10, 10], [0, 0], \"k-\")\n",
    "plt.plot([-10, 10], [0.5, 0.5], \"k:\")\n",
    "plt.plot([-10, 10], [1, 1], \"k:\")\n",
    "plt.plot([0, 0], [-1.1, 1.1], \"k-\")\n",
    "plt.plot(t, sig, \"b-\", linewidth=2, label=r\"$\\sigma(t) = \\frac{1}{1 + e^{-t}}$\")\n",
    "plt.xlabel(\"t\")\n",
    "plt.legend(loc=\"upper left\", fontsize=20)\n",
    "plt.axis([-10, 10, -0.1, 1.1])\n",
    "save_fig(\"logistic_function_plot\")\n",
    "plt.show()"
   ]
  },
  {
   "cell_type": "code",
   "execution_count": 83,
   "metadata": {},
   "outputs": [
    {
     "data": {
      "text/plain": [
       "['data', 'target', 'target_names', 'DESCR', 'feature_names', 'filename']"
      ]
     },
     "execution_count": 83,
     "metadata": {},
     "output_type": "execute_result"
    }
   ],
   "source": [
    "from sklearn import datasets\n",
    "iris = datasets.load_iris()\n",
    "list(iris.keys())"
   ]
  },
  {
   "cell_type": "code",
   "execution_count": 84,
   "metadata": {},
   "outputs": [
    {
     "name": "stdout",
     "output_type": "stream",
     "text": [
      ".. _iris_dataset:\n",
      "\n",
      "Iris plants dataset\n",
      "--------------------\n",
      "\n",
      "**Data Set Characteristics:**\n",
      "\n",
      "    :Number of Instances: 150 (50 in each of three classes)\n",
      "    :Number of Attributes: 4 numeric, predictive attributes and the class\n",
      "    :Attribute Information:\n",
      "        - sepal length in cm\n",
      "        - sepal width in cm\n",
      "        - petal length in cm\n",
      "        - petal width in cm\n",
      "        - class:\n",
      "                - Iris-Setosa\n",
      "                - Iris-Versicolour\n",
      "                - Iris-Virginica\n",
      "                \n",
      "    :Summary Statistics:\n",
      "\n",
      "    ============== ==== ==== ======= ===== ====================\n",
      "                    Min  Max   Mean    SD   Class Correlation\n",
      "    ============== ==== ==== ======= ===== ====================\n",
      "    sepal length:   4.3  7.9   5.84   0.83    0.7826\n",
      "    sepal width:    2.0  4.4   3.05   0.43   -0.4194\n",
      "    petal length:   1.0  6.9   3.76   1.76    0.9490  (high!)\n",
      "    petal width:    0.1  2.5   1.20   0.76    0.9565  (high!)\n",
      "    ============== ==== ==== ======= ===== ====================\n",
      "\n",
      "    :Missing Attribute Values: None\n",
      "    :Class Distribution: 33.3% for each of 3 classes.\n",
      "    :Creator: R.A. Fisher\n",
      "    :Donor: Michael Marshall (MARSHALL%PLU@io.arc.nasa.gov)\n",
      "    :Date: July, 1988\n",
      "\n",
      "The famous Iris database, first used by Sir R.A. Fisher. The dataset is taken\n",
      "from Fisher's paper. Note that it's the same as in R, but not as in the UCI\n",
      "Machine Learning Repository, which has two wrong data points.\n",
      "\n",
      "This is perhaps the best known database to be found in the\n",
      "pattern recognition literature.  Fisher's paper is a classic in the field and\n",
      "is referenced frequently to this day.  (See Duda & Hart, for example.)  The\n",
      "data set contains 3 classes of 50 instances each, where each class refers to a\n",
      "type of iris plant.  One class is linearly separable from the other 2; the\n",
      "latter are NOT linearly separable from each other.\n",
      "\n",
      ".. topic:: References\n",
      "\n",
      "   - Fisher, R.A. \"The use of multiple measurements in taxonomic problems\"\n",
      "     Annual Eugenics, 7, Part II, 179-188 (1936); also in \"Contributions to\n",
      "     Mathematical Statistics\" (John Wiley, NY, 1950).\n",
      "   - Duda, R.O., & Hart, P.E. (1973) Pattern Classification and Scene Analysis.\n",
      "     (Q327.D83) John Wiley & Sons.  ISBN 0-471-22361-1.  See page 218.\n",
      "   - Dasarathy, B.V. (1980) \"Nosing Around the Neighborhood: A New System\n",
      "     Structure and Classification Rule for Recognition in Partially Exposed\n",
      "     Environments\".  IEEE Transactions on Pattern Analysis and Machine\n",
      "     Intelligence, Vol. PAMI-2, No. 1, 67-71.\n",
      "   - Gates, G.W. (1972) \"The Reduced Nearest Neighbor Rule\".  IEEE Transactions\n",
      "     on Information Theory, May 1972, 431-433.\n",
      "   - See also: 1988 MLC Proceedings, 54-64.  Cheeseman et al\"s AUTOCLASS II\n",
      "     conceptual clustering system finds 3 classes in the data.\n",
      "   - Many, many more ...\n"
     ]
    }
   ],
   "source": [
    "print(iris.DESCR)"
   ]
  },
  {
   "cell_type": "code",
   "execution_count": 85,
   "metadata": {},
   "outputs": [],
   "source": [
    "X = iris[\"data\"][:, 3:]  # petal width\n",
    "y = (iris[\"target\"] == 2).astype(np.int)  # 1 if Iris virginica, else 0"
   ]
  },
  {
   "cell_type": "code",
   "execution_count": 86,
   "metadata": {},
   "outputs": [
    {
     "data": {
      "text/plain": [
       "LogisticRegression(C=1.0, class_weight=None, dual=False, fit_intercept=True,\n",
       "                   intercept_scaling=1, l1_ratio=None, max_iter=100,\n",
       "                   multi_class='auto', n_jobs=None, penalty='l2',\n",
       "                   random_state=42, solver='lbfgs', tol=0.0001, verbose=0,\n",
       "                   warm_start=False)"
      ]
     },
     "execution_count": 86,
     "metadata": {},
     "output_type": "execute_result"
    }
   ],
   "source": [
    "from sklearn.linear_model import LogisticRegression\n",
    "log_reg = LogisticRegression(solver=\"lbfgs\", random_state=42)\n",
    "log_reg.fit(X, y)"
   ]
  },
  {
   "cell_type": "code",
   "execution_count": 87,
   "metadata": {},
   "outputs": [
    {
     "data": {
      "text/plain": [
       "[<matplotlib.lines.Line2D at 0x1a1cbc5890>]"
      ]
     },
     "execution_count": 87,
     "metadata": {},
     "output_type": "execute_result"
    },
    {
     "data": {
      "image/png": "[encoded data removed]",
      "text/plain": [
       "<Figure size 432x288 with 1 Axes>"
      ]
     },
     "metadata": {
      "needs_background": "light"
     },
     "output_type": "display_data"
    }
   ],
   "source": [
    "X_new = np.linspace(0, 3, 1000).reshape(-1, 1)\n",
    "y_proba = log_reg.predict_proba(X_new)\n",
    "\n",
    "plt.plot(X_new, y_proba[:, 1], \"g-\", linewidth=2, label=\"Iris virginica\")\n",
    "plt.plot(X_new, y_proba[:, 0], \"b--\", linewidth=2, label=\"Not Iris virginica\")"
   ]
  },
  {
   "cell_type": "markdown",
   "metadata": {},
   "source": [
    "### 决策边界"
   ]
  },
  {
   "cell_type": "code",
   "execution_count": 88,
   "metadata": {},
   "outputs": [
    {
     "name": "stdout",
     "output_type": "stream",
     "text": [
      "Saving figure logistic_regression_plot\n"
     ]
    },
    {
     "data": {
      "image/png": "[encoded data removed]",
      "text/plain": [
       "<Figure size 576x216 with 1 Axes>"
      ]
     },
     "metadata": {
      "needs_background": "light"
     },
     "output_type": "display_data"
    }
   ],
   "source": [
    "X_new = np.linspace(0, 3, 1000).reshape(-1, 1)\n",
    "y_proba = log_reg.predict_proba(X_new)\n",
    "decision_boundary = X_new[y_proba[:, 1] >= 0.5][0]\n",
    "\n",
    "plt.figure(figsize=(8, 3))\n",
    "plt.plot(X[y==0], y[y==0], \"bs\")\n",
    "plt.plot(X[y==1], y[y==1], \"g^\")\n",
    "plt.plot([decision_boundary, decision_boundary], [-1, 2], \"k:\", linewidth=2)\n",
    "plt.plot(X_new, y_proba[:, 1], \"g-\", linewidth=2, label=\"Iris virginica\")\n",
    "plt.plot(X_new, y_proba[:, 0], \"b--\", linewidth=2, label=\"Not Iris virginica\")\n",
    "plt.text(decision_boundary+0.02, 0.15, \"Decision  boundary\", fontsize=14, color=\"k\", ha=\"center\")\n",
    "plt.arrow(decision_boundary, 0.08, -0.3, 0, head_width=0.05, head_length=0.1, fc='b', ec='b')\n",
    "plt.arrow(decision_boundary, 0.92, 0.3, 0, head_width=0.05, head_length=0.1, fc='g', ec='g')\n",
    "plt.xlabel(\"Petal width (cm)\", fontsize=14)\n",
    "plt.ylabel(\"Probability\", fontsize=14)\n",
    "plt.legend(loc=\"center left\", fontsize=14)\n",
    "plt.axis([0, 3, -0.02, 1.02])\n",
    "save_fig(\"logistic_regression_plot\")\n",
    "plt.show()"
   ]
  },
  {
   "cell_type": "code",
   "execution_count": 89,
   "metadata": {},
   "outputs": [
    {
     "data": {
      "text/plain": [
       "array([1.66066066])"
      ]
     },
     "execution_count": 89,
     "metadata": {},
     "output_type": "execute_result"
    }
   ],
   "source": [
    "decision_boundary"
   ]
  },
  {
   "cell_type": "code",
   "execution_count": 90,
   "metadata": {},
   "outputs": [
    {
     "data": {
      "text/plain": [
       "array([1, 0])"
      ]
     },
     "execution_count": 90,
     "metadata": {},
     "output_type": "execute_result"
    }
   ],
   "source": [
    "log_reg.predict([[1.7], [1.5]])"
   ]
  },
  {
   "cell_type": "code",
   "execution_count": 91,
   "metadata": {},
   "outputs": [
    {
     "name": "stdout",
     "output_type": "stream",
     "text": [
      "Saving figure logistic_regression_contour_plot\n"
     ]
    },
    {
     "data": {
      "image/png": "[encoded data removed]",
      "text/plain": [
       "<Figure size 720x288 with 1 Axes>"
      ]
     },
     "metadata": {
      "needs_background": "light"
     },
     "output_type": "display_data"
    }
   ],
   "source": [
    "from sklearn.linear_model import LogisticRegression\n",
    "\n",
    "X = iris[\"data\"][:, (2, 3)]  # petal length, petal width\n",
    "y = (iris[\"target\"] == 2).astype(np.int)\n",
    "\n",
    "log_reg = LogisticRegression(solver=\"lbfgs\", C=10**10, random_state=42)\n",
    "log_reg.fit(X, y)\n",
    "\n",
    "x0, x1 = np.meshgrid(\n",
    "        np.linspace(2.9, 7, 500).reshape(-1, 1),\n",
    "        np.linspace(0.8, 2.7, 200).reshape(-1, 1),\n",
    "    )\n",
    "X_new = np.c_[x0.ravel(), x1.ravel()]\n",
    "\n",
    "y_proba = log_reg.predict_proba(X_new)\n",
    "\n",
    "plt.figure(figsize=(10, 4))\n",
    "plt.plot(X[y==0, 0], X[y==0, 1], \"bs\")\n",
    "plt.plot(X[y==1, 0], X[y==1, 1], \"g^\")\n",
    "\n",
    "zz = y_proba[:, 1].reshape(x0.shape)\n",
    "contour = plt.contour(x0, x1, zz, cmap=plt.cm.brg)\n",
    "\n",
    "\n",
    "left_right = np.array([2.9, 7])\n",
    "boundary = -(log_reg.coef_[0][0] * left_right + log_reg.intercept_[0]) / log_reg.coef_[0][1]\n",
    "\n",
    "plt.clabel(contour, inline=1, fontsize=12)\n",
    "plt.plot(left_right, boundary, \"k--\", linewidth=3)\n",
    "plt.text(3.5, 1.5, \"Not Iris virginica\", fontsize=14, color=\"b\", ha=\"center\")\n",
    "plt.text(6.5, 2.3, \"Iris virginica\", fontsize=14, color=\"g\", ha=\"center\")\n",
    "plt.xlabel(\"Petal length\", fontsize=14)\n",
    "plt.ylabel(\"Petal width\", fontsize=14)\n",
    "plt.axis([2.9, 7, 0.8, 2.7])\n",
    "save_fig(\"logistic_regression_contour_plot\")\n",
    "plt.show()"
   ]
  },
  {
   "cell_type": "code",
   "execution_count": 92,
   "metadata": {},
   "outputs": [
    {
     "data": {
      "text/plain": [
       "LogisticRegression(C=10, class_weight=None, dual=False, fit_intercept=True,\n",
       "                   intercept_scaling=1, l1_ratio=None, max_iter=100,\n",
       "                   multi_class='multinomial', n_jobs=None, penalty='l2',\n",
       "                   random_state=42, solver='lbfgs', tol=0.0001, verbose=0,\n",
       "                   warm_start=False)"
      ]
     },
     "execution_count": 92,
     "metadata": {},
     "output_type": "execute_result"
    }
   ],
   "source": [
    "X = iris[\"data\"][:, (2, 3)]  # petal length, petal width\n",
    "y = iris[\"target\"]\n",
    "\n",
    "softmax_reg = LogisticRegression(multi_class=\"multinomial\",solver=\"lbfgs\", C=10, random_state=42)\n",
    "softmax_reg.fit(X, y)"
   ]
  },
  {
   "cell_type": "code",
   "execution_count": 93,
   "metadata": {},
   "outputs": [
    {
     "name": "stdout",
     "output_type": "stream",
     "text": [
      "Saving figure softmax_regression_contour_plot\n"
     ]
    },
    {
     "data": {
      "image/png": "[encoded data removed]",
      "text/plain": [
       "<Figure size 720x288 with 1 Axes>"
      ]
     },
     "metadata": {
      "needs_background": "light"
     },
     "output_type": "display_data"
    }
   ],
   "source": [
    "x0, x1 = np.meshgrid(\n",
    "        np.linspace(0, 8, 500).reshape(-1, 1),\n",
    "        np.linspace(0, 3.5, 200).reshape(-1, 1),\n",
    "    )\n",
    "X_new = np.c_[x0.ravel(), x1.ravel()]\n",
    "\n",
    "\n",
    "y_proba = softmax_reg.predict_proba(X_new)\n",
    "y_predict = softmax_reg.predict(X_new)\n",
    "\n",
    "zz1 = y_proba[:, 1].reshape(x0.shape)\n",
    "zz = y_predict.reshape(x0.shape)\n",
    "\n",
    "plt.figure(figsize=(10, 4))\n",
    "plt.plot(X[y==2, 0], X[y==2, 1], \"g^\", label=\"Iris virginica\")\n",
    "plt.plot(X[y==1, 0], X[y==1, 1], \"bs\", label=\"Iris versicolor\")\n",
    "plt.plot(X[y==0, 0], X[y==0, 1], \"yo\", label=\"Iris setosa\")\n",
    "\n",
    "from matplotlib.colors import ListedColormap\n",
    "custom_cmap = ListedColormap(['#fafab0','#9898ff','#a0faa0'])\n",
    "\n",
    "plt.contourf(x0, x1, zz, cmap=custom_cmap)\n",
    "contour = plt.contour(x0, x1, zz1, cmap=plt.cm.brg)\n",
    "plt.clabel(contour, inline=1, fontsize=12)\n",
    "plt.xlabel(\"Petal length\", fontsize=14)\n",
    "plt.ylabel(\"Petal width\", fontsize=14)\n",
    "plt.legend(loc=\"center left\", fontsize=14)\n",
    "plt.axis([0, 7, 0, 3.5])\n",
    "save_fig(\"softmax_regression_contour_plot\")\n",
    "plt.show()"
   ]
  },
  {
   "cell_type": "code",
   "execution_count": 94,
   "metadata": {},
   "outputs": [
    {
     "data": {
      "text/plain": [
       "array([2])"
      ]
     },
     "execution_count": 94,
     "metadata": {},
     "output_type": "execute_result"
    }
   ],
   "source": [
    "softmax_reg.predict([[5, 2]])"
   ]
  },
  {
   "cell_type": "code",
   "execution_count": 95,
   "metadata": {},
   "outputs": [
    {
     "data": {
      "text/plain": [
       "array([[6.38014896e-07, 5.74929995e-02, 9.42506362e-01]])"
      ]
     },
     "execution_count": 95,
     "metadata": {},
     "output_type": "execute_result"
    }
   ],
   "source": [
    "softmax_reg.predict_proba([[5, 2]])"
   ]
  },
  {
   "cell_type": "code",
   "execution_count": null,
   "metadata": {},
   "outputs": [],
   "source": []
  }
 ],
 "metadata": {
  "kernelspec": {
   "display_name": "Python 3",
   "language": "python",
   "name": "python3"
  },
  "language_info": {
   "codemirror_mode": {
    "name": "ipython",
    "version": 3
   },
   "file_extension": ".py",
   "mimetype": "text/x-python",
   "name": "python",
   "nbconvert_exporter": "python",
   "pygments_lexer": "ipython3",
   "version": "3.7.6"
  }
 },
 "nbformat": 4,
 "nbformat_minor": 4
}
